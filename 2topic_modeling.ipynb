{
 "cells": [
  {
   "cell_type": "code",
   "execution_count": 5,
   "metadata": {
    "ExecuteTime": {
     "end_time": "2020-07-02T17:00:22.832767Z",
     "start_time": "2020-07-02T17:00:21.267655Z"
    },
    "code_folding": []
   },
   "outputs": [],
   "source": [
    "# basic operations\n",
    "import os\n",
    "import re\n",
    "import logging\n",
    "import time\n",
    "import pickle\n",
    "\n",
    "# utilities\n",
    "from pprint import pprint as pp\n",
    "\n",
    "# data analysis/management/manipulation\n",
    "import numpy as np\n",
    "import pandas as pd\n",
    "import sklearn\n",
    "\n",
    "# text analysis\n",
    "import gensim\n",
    "from gensim.models import LdaModel, ldamodel\n",
    "from gensim.models import LsiModel, lsimodel\n",
    "from gensim.models import Phrases\n",
    "from gensim.models import CoherenceModel  \n",
    "from gensim.corpora import Dictionary\n",
    "from gensim.similarities import MatrixSimilarity\n",
    "'''\n",
    "Uncomment the next two lines of code if you don't have a copy of the\n",
    "Mallet software installed in your machine\n",
    "'''\n",
    "# ! wget http://mallet.cs.umass.edu/dist/mallet-2.0.8.zip # * update if needed *\n",
    "# ! unzip mallet-2.0.8.zip\n",
    "MALLET_PATH = 'mallet-2.0.8/bin/mallet'\n",
    "import spacy\n",
    "import en_core_web_lg\n",
    "\n",
    "# multivariate analysis\n",
    "from sklearn import manifold\n",
    "from sklearn.metrics import euclidean_distances\n",
    "from sklearn.decomposition import PCA\n",
    "\n",
    "# distance metrics\n",
    "from scipy.spatial.distance import cosine\n",
    "\n",
    "# visualization\n",
    "import matplotlib.pyplot as plt\n",
    "import matplotlib.cm as cm\n",
    "import pyLDAvis\n",
    "import pyLDAvis.gensim"
   ]
  },
  {
   "cell_type": "markdown",
   "metadata": {},
   "source": [
    "# read data"
   ]
  },
  {
   "cell_type": "code",
   "execution_count": 6,
   "metadata": {
    "ExecuteTime": {
     "end_time": "2020-07-02T17:00:26.751210Z",
     "start_time": "2020-07-02T17:00:25.534564Z"
    },
    "code_folding": []
   },
   "outputs": [],
   "source": [
    "# read docs_phrased\n",
    "import pickle\n",
    "with open('2data/insurance_times_docs_phrased.pickle', 'rb') as f:\n",
    "    docs_it = pickle.load(f)\n",
    "with open('2data/money_marketing_docs_phrased.pickle', 'rb') as f:\n",
    "    docs_mm = pickle.load(f)\n",
    "with open('2data/artemis_docs_phrased.pickle', 'rb') as f:\n",
    "    docs_arti = pickle.load(f)\n",
    "with open('2data/insurance_asset_risk_phrased.pickle', 'rb') as f:\n",
    "    docs_ia = pickle.load(f)\n",
    "with open('2data/Pensionage_LatestNews_docs_phrased.pickle', 'rb') as f:\n",
    "    docs_pl = pickle.load(f)\n",
    "with open('2data/actuarial_post_docs_phrased.pickle', 'rb') as f:\n",
    "    docs_ap = pickle.load(f)\n",
    "with open('2data/intelligent_insurer_docs_phrased.pickle', 'rb') as f:\n",
    "    docs_ii = pickle.load(f)\n",
    "with open('data/insurance_erm_phrased.pickle', 'rb') as f:\n",
    "    docs_ie = pickle.load(f)"
   ]
  },
  {
   "cell_type": "code",
   "execution_count": 7,
   "metadata": {
    "ExecuteTime": {
     "end_time": "2020-07-02T17:00:48.045911Z",
     "start_time": "2020-07-02T17:00:47.883499Z"
    },
    "code_folding": []
   },
   "outputs": [],
   "source": [
    "# read year data\n",
    "with open('2data/insurance_times_year.pickle', 'rb') as f:\n",
    "    year_it = pickle.load(f)\n",
    "with open('2data/money_marketing_year.pickle', 'rb') as f:\n",
    "    year_mm = pickle.load(f)\n",
    "with open('2data/artemis_year.pickle', 'rb') as f:\n",
    "    year_arti = pickle.load(f)\n",
    "with open('2data/insurance_asset_risk_year.pickle', 'rb') as f:\n",
    "    year_ia = pickle.load(f)\n",
    "year_ia = [int(i) for i in year_ia]\n",
    "with open('2data/insurance_erm_year.pickle', 'rb') as f:\n",
    "    year_ie = pickle.load(f)\n",
    "with open('2data/Pensionage_LatestNews_docs_phrased.pickle', 'rb') as f:\n",
    "    year_pl = pickle.load(f)\n",
    "year_pl = [2020]*449\n",
    "with open('2data/actuarial_post_year.pickle', 'rb') as f:\n",
    "    year_ap = pickle.load(f)\n",
    "with open('2data/intelligent_insurer_year.pickle', 'rb') as f:\n",
    "    year_ii = pickle.load(f)"
   ]
  },
  {
   "cell_type": "markdown",
   "metadata": {},
   "source": [
    "## merge data"
   ]
  },
  {
   "cell_type": "code",
   "execution_count": 8,
   "metadata": {
    "ExecuteTime": {
     "end_time": "2020-07-02T17:00:53.472618Z",
     "start_time": "2020-07-02T17:00:53.463336Z"
    }
   },
   "outputs": [
    {
     "data": {
      "text/plain": [
       "41418"
      ]
     },
     "execution_count": 8,
     "metadata": {},
     "output_type": "execute_result"
    }
   ],
   "source": [
    "temp = docs_mm+docs_it+docs_pl+docs_arti+docs_ia+docs_ap+docs_ii\n",
    "len(temp)"
   ]
  },
  {
   "cell_type": "code",
   "execution_count": 9,
   "metadata": {
    "ExecuteTime": {
     "end_time": "2020-07-02T17:01:04.619131Z",
     "start_time": "2020-07-02T17:01:04.613235Z"
    }
   },
   "outputs": [
    {
     "data": {
      "text/plain": [
       "41418"
      ]
     },
     "execution_count": 9,
     "metadata": {},
     "output_type": "execute_result"
    }
   ],
   "source": [
    "temp_year = year_mm+year_it+year_pl+year_arti+year_ia+year_ap+year_ii\n",
    "len(temp_year)"
   ]
  },
  {
   "cell_type": "code",
   "execution_count": 10,
   "metadata": {
    "ExecuteTime": {
     "end_time": "2020-07-02T17:02:53.534572Z",
     "start_time": "2020-07-02T17:02:53.523391Z"
    }
   },
   "outputs": [
    {
     "data": {
      "text/plain": [
       "{2010, 2011, 2012, 2013, 2014, 2015, 2016, 2017, 2018, 2019, 2020}"
      ]
     },
     "execution_count": 10,
     "metadata": {},
     "output_type": "execute_result"
    }
   ],
   "source": [
    "set(temp_year)"
   ]
  },
  {
   "cell_type": "code",
   "execution_count": 11,
   "metadata": {
    "ExecuteTime": {
     "end_time": "2020-07-02T17:03:04.764485Z",
     "start_time": "2020-07-02T17:03:04.755808Z"
    }
   },
   "outputs": [
    {
     "ename": "ValueError",
     "evalue": "1 is not in list",
     "output_type": "error",
     "traceback": [
      "\u001b[0;31m---------------------------------------------------------------------------\u001b[0m",
      "\u001b[0;31mValueError\u001b[0m                                Traceback (most recent call last)",
      "\u001b[0;32m<ipython-input-11-b717551fa331>\u001b[0m in \u001b[0;36m<module>\u001b[0;34m\u001b[0m\n\u001b[0;32m----> 1\u001b[0;31m \u001b[0mtemp_year\u001b[0m\u001b[0;34m.\u001b[0m\u001b[0mindex\u001b[0m\u001b[0;34m(\u001b[0m\u001b[0;36m1\u001b[0m\u001b[0;34m)\u001b[0m\u001b[0;34m\u001b[0m\u001b[0;34m\u001b[0m\u001b[0m\n\u001b[0m",
      "\u001b[0;31mValueError\u001b[0m: 1 is not in list"
     ]
    }
   ],
   "source": [
    "temp_year.index(1)"
   ]
  },
  {
   "cell_type": "code",
   "execution_count": 12,
   "metadata": {
    "ExecuteTime": {
     "end_time": "2020-07-02T17:03:16.037998Z",
     "start_time": "2020-07-02T17:03:16.033975Z"
    }
   },
   "outputs": [
    {
     "name": "stdout",
     "output_type": "stream",
     "text": [
      "41417\n",
      "41417\n"
     ]
    }
   ],
   "source": [
    "del temp[23370]\n",
    "del temp_year[23370]\n",
    "print(len(temp))\n",
    "print(len(temp_year))"
   ]
  },
  {
   "cell_type": "code",
   "execution_count": 13,
   "metadata": {
    "ExecuteTime": {
     "end_time": "2020-07-02T17:03:29.730613Z",
     "start_time": "2020-07-02T17:03:29.719666Z"
    }
   },
   "outputs": [
    {
     "data": {
      "text/plain": [
       "{2010, 2011, 2012, 2013, 2014, 2015, 2016, 2017, 2018, 2019, 2020}"
      ]
     },
     "execution_count": 13,
     "metadata": {},
     "output_type": "execute_result"
    }
   ],
   "source": [
    "set(temp_year)"
   ]
  },
  {
   "cell_type": "code",
   "execution_count": 14,
   "metadata": {
    "ExecuteTime": {
     "end_time": "2020-07-02T19:00:37.800429Z",
     "start_time": "2020-07-02T19:00:35.261627Z"
    }
   },
   "outputs": [],
   "source": [
    "my_stopwords = ['\\x1c','m','\\xa0','insurance','insurer','broker','subscribe','subscription','video','live','artemis','cat','interview','market']\n",
    "temp = [[word for word in doc if word not in my_stopwords] for doc in temp ]"
   ]
  },
  {
   "cell_type": "markdown",
   "metadata": {},
   "source": [
    "# topic modeling"
   ]
  },
  {
   "cell_type": "code",
   "execution_count": 11,
   "metadata": {
    "ExecuteTime": {
     "end_time": "2020-07-02T19:01:11.386450Z",
     "start_time": "2020-07-02T19:00:57.724203Z"
    }
   },
   "outputs": [],
   "source": [
    "# create dictionary and text corpus\n",
    "DICT = Dictionary(temp)\n",
    "CORPUS = [DICT.doc2bow(doc) for doc in temp]"
   ]
  },
  {
   "cell_type": "code",
   "execution_count": 12,
   "metadata": {
    "ExecuteTime": {
     "end_time": "2020-07-02T19:34:31.481461Z",
     "start_time": "2020-07-02T19:27:57.981396Z"
    },
    "scrolled": true
   },
   "outputs": [
    {
     "data": {
      "text/plain": [
       "[(0,\n",
       "  '0.029*\"investment\" + 0.028*\"fund\" + 0.020*\"asset\" + 0.019*\"increase\" + 0.017*\"rate\" + 0.013*\"return\" + 0.011*\"growth\" + 0.009*\"low\" + 0.009*\"high\" + 0.009*\"premium\"'),\n",
       " (1,\n",
       "  '0.012*\"management\" + 0.010*\"client\" + 0.010*\"solution\" + 0.009*\"role\" + 0.009*\"product\" + 0.009*\"manage\" + 0.008*\"head\" + 0.008*\"team\" + 0.008*\"global\" + 0.008*\"experience\"'),\n",
       " (2,\n",
       "  '0.040*\"loss\" + 0.017*\"event\" + 0.013*\"hurricane\" + 0.013*\"impact\" + 0.013*\"industry\" + 0.010*\"estimate\" + 0.009*\"storm\" + 0.009*\"include\" + 0.008*\"catastrophe\" + 0.008*\"expect\"'),\n",
       " (3,\n",
       "  '0.054*\"pension\" + 0.023*\"scheme\" + 0.014*\"benefit\" + 0.014*\"retirement\" + 0.012*\"member\" + 0.011*\"government\" + 0.011*\"life\" + 0.010*\"employer\" + 0.009*\"income\" + 0.009*\"plan\"'),\n",
       " (4,\n",
       "  '0.055*\"reinsurance\" + 0.042*\"ils\" + 0.040*\"capital\" + 0.038*\"bond\" + 0.028*\"catastrophe\" + 0.016*\"security\" + 0.015*\"investor\" + 0.011*\"transaction\" + 0.011*\"deal\" + 0.011*\"reinsurer\"'),\n",
       " (5,\n",
       "  '0.009*\"datum\" + 0.008*\"customer\" + 0.008*\"fca\" + 0.006*\"information\" + 0.006*\"change\" + 0.006*\"regulator\" + 0.006*\"consumer\" + 0.006*\"claim\" + 0.005*\"process\" + 0.005*\"issue\"')]"
      ]
     },
     "execution_count": 12,
     "metadata": {},
     "output_type": "execute_result"
    }
   ],
   "source": [
    "# model 1\n",
    "N_TOPICS = 6\n",
    "\n",
    "# model estimation\n",
    "LDA_MALLET = gensim.models.wrappers.LdaMallet(MALLET_PATH,\n",
    "                                              corpus=CORPUS,\n",
    "                                              num_topics=N_TOPICS,\n",
    "                                              id2word=DICT,\n",
    "                                              random_seed=123)\n",
    "\n",
    "# print results\n",
    "LDA_MALLET.print_topics(num_topics=N_TOPICS, num_words=10)"
   ]
  },
  {
   "cell_type": "code",
   "execution_count": 64,
   "metadata": {
    "ExecuteTime": {
     "end_time": "2020-06-23T08:55:47.208662Z",
     "start_time": "2020-06-23T08:55:46.234226Z"
    }
   },
   "outputs": [
    {
     "name": "stdout",
     "output_type": "stream",
     "text": [
      "38580\n"
     ]
    },
    {
     "data": {
      "text/plain": [
       "<matplotlib.axes._subplots.AxesSubplot at 0x21c11912688>"
      ]
     },
     "execution_count": 64,
     "metadata": {},
     "output_type": "execute_result"
    },
    {
     "data": {
      "image/png": "[encoded data removed]",
      "text/plain": [
       "<Figure size 432x288 with 1 Axes>"
      ]
     },
     "metadata": {
      "needs_background": "light"
     },
     "output_type": "display_data"
    }
   ],
   "source": [
    "import seaborn as sns\n",
    "print(len(temp))\n",
    "a = [len(x) for x in temp]\n",
    "sns.distplot(a)"
   ]
  },
  {
   "cell_type": "markdown",
   "metadata": {},
   "source": [
    "##  Model evaluation\n",
    "\n",
    "### Get range of coherence values as the number of retained topics change"
   ]
  },
  {
   "cell_type": "code",
   "execution_count": 41,
   "metadata": {
    "ExecuteTime": {
     "end_time": "2020-07-03T03:40:11.241072Z",
     "start_time": "2020-07-03T03:40:11.232351Z"
    },
    "code_folding": [
     0
    ]
   },
   "outputs": [],
   "source": [
    "# define function\n",
    "def compute_coherence_values(dictionary, corpus, texts, limit, start, step):\n",
    "    \"\"\"\n",
    "    Compute c_v coherence for various number of topics\n",
    "\n",
    "    Parameters:\n",
    "    -----------\n",
    "    dictionary : Gensim dictionary\n",
    "    corpus     : Gensim corpus\n",
    "    texts      : List of input texts\n",
    "    limit      : Max number of topics\n",
    "\n",
    "    Returns:\n",
    "    --------\n",
    "    model_list       : List of LDA topic models\n",
    "    coherence_values : Coherence values corresponding to the LDA model\n",
    "                       with respective number of topics\n",
    "    \"\"\"\n",
    "    coherence_values = []\n",
    "    model_list = []\n",
    "    mallet_path = MALLET_PATH\n",
    "    for num_topics in range(start, limit, step):\n",
    "        model = gensim.models.wrappers.LdaMallet(mallet_path,\n",
    "                                                 corpus=corpus,\n",
    "                                                 num_topics=num_topics,\n",
    "                                                 id2word=dictionary,\n",
    "                                                 random_seed=123)\n",
    "        model_list.append(model)\n",
    "        coherencemodel = CoherenceModel(model=model,\n",
    "                                        texts=texts,\n",
    "                                        dictionary=dictionary,\n",
    "                                        coherence='c_v')\n",
    "        coherence_values.append(coherencemodel.get_coherence())\n",
    "\n",
    "    return model_list, coherence_values"
   ]
  },
  {
   "cell_type": "code",
   "execution_count": 42,
   "metadata": {
    "ExecuteTime": {
     "end_time": "2020-07-03T04:57:28.911436Z",
     "start_time": "2020-07-03T03:40:31.427849Z"
    }
   },
   "outputs": [],
   "source": [
    "# collect coherence scores as the number of retained topics change\n",
    "LIMIT, START, STEP = 40, 1, 5\n",
    "MODEL_LIST, COHER_VALS = compute_coherence_values(dictionary=DICT,\n",
    "                                                  corpus=CORPUS,\n",
    "                                                  texts=temp,\n",
    "                                                  start=START,\n",
    "                                                  limit=LIMIT,\n",
    "                                                  step=STEP)"
   ]
  },
  {
   "cell_type": "code",
   "execution_count": 43,
   "metadata": {
    "ExecuteTime": {
     "end_time": "2020-07-03T04:57:48.383263Z",
     "start_time": "2020-07-03T04:57:48.165376Z"
    },
    "code_folding": []
   },
   "outputs": [
    {
     "data": {
      "image/png": "[encoded data removed]",
      "text/plain": [
       "<Figure size 432x288 with 1 Axes>"
      ]
     },
     "metadata": {
      "needs_background": "light"
     },
     "output_type": "display_data"
    }
   ],
   "source": [
    "# plot collected coherence scores data\n",
    "\n",
    "# data series\n",
    "X = range(START, LIMIT, STEP)\n",
    "Y = COHER_VALS\n",
    "\n",
    "# create figure\n",
    "FIG = plt.figure(figsize=(6, 4))\n",
    "AX = FIG.add_subplot(1, 1, 1)\n",
    "\n",
    "# plot data\n",
    "AX.plot(X, Y, marker='o', color='b', ls='-')\n",
    "\n",
    "# axes\n",
    "AX.set_xlabel(\"Number of topics retained\")\n",
    "AX.set_ylabel(\"Coherence score\")\n",
    "AX.set_xticks(np.arange(0, 40, 5))\n",
    "\n",
    "# reference line\n",
    "AX.axvline(x=6, ymin=0, ymax=1, color='r')\n",
    "\n",
    "# grid\n",
    "AX.grid(True, ls='--')\n",
    "\n",
    "# save plot to file\n",
    "CWD = os.getcwd()\n",
    "CWD = CWD\n",
    "FOLDER = 'exhibits/appxB'\n",
    "FILE = 'all_newstopwords.pdf'\n",
    "plt.savefig(os.path.join(CWD, FOLDER, FILE),\n",
    "            transparent=True,\n",
    "            bbox_inches='tight',\n",
    "            pad_inches=0)\n",
    "\n",
    "plt.show()"
   ]
  },
  {
   "cell_type": "code",
   "execution_count": 13,
   "metadata": {
    "ExecuteTime": {
     "end_time": "2020-07-02T19:34:50.859263Z",
     "start_time": "2020-07-02T19:34:50.815062Z"
    }
   },
   "outputs": [],
   "source": [
    "# translate topic modeling outcome\n",
    "LDA_MALLET_G = gensim.models.wrappers.ldamallet.malletmodel2ldamodel(LDA_MALLET)"
   ]
  },
  {
   "cell_type": "code",
   "execution_count": 14,
   "metadata": {
    "ExecuteTime": {
     "end_time": "2020-07-02T19:35:56.098194Z",
     "start_time": "2020-07-02T19:35:10.140271Z"
    }
   },
   "outputs": [
    {
     "data": {
      "text/html": [
       "\n",
       "<link rel=\"stylesheet\" type=\"text/css\" href=\"https://cdn.rawgit.com/bmabey/pyLDAvis/files/ldavis.v1.0.0.css\">\n",
       "\n",
       "\n",
       "<div id=\"ldavis_el8011135312764962091096676\"></div>\n",
       "<script type=\"text/javascript\">\n",
       "\n",
       "var ldavis_el8011135312764962091096676_data = {\"mdsDat\": {\"x\": [-0.07854432776023458, 0.10366633338086036, -0.18067777838003968, 0.2039208053711273, -0.2576663833013313, 0.20930135068961814], \"y\": [0.053758345653862304, -0.3471725004376614, 0.11712323675704768, 0.14799913791533506, -0.05412037380230252, 0.08241215391371888], \"topics\": [1, 2, 3, 4, 5, 6], \"cluster\": [1, 1, 1, 1, 1, 1], \"Freq\": [17.01519048291928, 15.644273729182432, 15.333826119980506, 16.239676794678623, 19.73377324942111, 16.033259623818054]}, \"tinfo\": {\"Term\": [\"reinsurance\", \"pension\", \"ils\", \"capital\", \"bond\", \"loss\", \"catastrophe\", \"investment\", \"fund\", \"scheme\", \"asset\", \"event\", \"rate\", \"security\", \"investor\", \"retirement\", \"increase\", \"hurricane\", \"benefit\", \"transaction\", \"reinsurer\", \"return\", \"member\", \"management\", \"industry\", \"impact\", \"client\", \"employer\", \"growth\", \"government\", \"performer\", \"congregate\", \"stiefel\", \"taku\", \"grady\", \"pizer\", \"fret\", \"cutter\", \"cheong\", \"laden\", \"shale\", \"buffet\", \"amends\", \"outbound\", \"selden\", \"combine_operating_ratio_cor\", \"renminbi\", \"importer\", \"mh370\", \"unconditionally\", \"underwhelme\", \"hoarding\", \"rejuvenated\", \"snapback\", \"fran\\u00e7ois\", \"metcalfe\", \"b3\", \"b2\", \"inexorable\", \"overwhelm\", \"asset\", \"equity\", \"performance\", \"profit\", \"yield\", \"volatility\", \"ratio\", \"negative\", \"allocation\", \"profitability\", \"stock\", \"stable\", \"margin\", \"dividend\", \"soft\", \"ftse\", \"esg\", \"investing\", \"currency\", \"gilt\", \"monetary\", \"volatile\", \"favourable\", \"float\", \"blackrock\", \"sterling\", \"qe\", \"sentiment\", \"outperform\", \"roe\", \"quarter\", \"decline\", \"investment\", \"premium\", \"rate\", \"reserve\", \"offset\", \"net\", \"fitch\", \"outlook\", \"fund\", \"return\", \"invest\", \"environment\", \"positive\", \"pressure\", \"growth\", \"increase\", \"fall\", \"low\", \"trend\", \"month\", \"company\", \"remain\", \"price\", \"interest\", \"strategy\", \"rise\", \"sector\", \"high\", \"continue\", \"portfolio\", \"level\", \"expect\", \"share\", \"result\", \"investor\", \"management\", \"kieron\", \"pawley\", \"draper\", \"signicantly\", \"upscaling\", \"shulman\", \"davison\", \"folliard\", \"laurie\", \"mhg\", \"epsilon\", \"msl\", \"ssl\", \"squared\", \"corbett\", \"chille\", \"unflinchingly\", \"kennedys\", \"unbeatable\", \"aite\", \"gethin\", \"jmd\", \"kath\", \"requiem\", \"agora\", \"allard\", \"mds\", \"cowens\", \"insurnace\", \"d&f\", \"client\", \"team\", \"london\", \"join\", \"cyber\", \"executive\", \"chief\", \"officer\", \"acquisition\", \"operation\", \"expertise\", \"role\", \"appoint\", \"chairman\", \"partnership\", \"serve\", \"axa\", \"capability\", \"leader\", \"delighted\", \"hire\", \"appointment\", \"newsletter\", \"division\", \"digital\", \"leadership\", \"network\", \"broking\", \"jlt\", \"zurich\", \"underwriter\", \"ceo\", \"solution\", \"platform\", \"partner\", \"build\", \"international\", \"head\", \"experience\", \"strategic\", \"management\", \"manage\", \"develop\", \"senior\", \"board\", \"lead\", \"product\", \"underwriting\", \"group\", \"development\", \"global\", \"add\", \"focus\", \"service\", \"support\", \"work\", \"industry\", \"opportunity\", \"today\", \"unfurnished\", \"westhoff\", \"maximizes\", \"explosive\", \"vegetable\", \"tala\", \"oita\", \"potosi\", \"homestead\", \"surigao\", \"felix\", \"pampanga\", \"p500\", \"leyte\", \"laguna\", \"unprecendented\", \"higly\", \"deckchair\", \"cebu\", \"batanes\", \"alvarez\", \"albay\", \"geological\", \"seep\", \"rooftop\", \"securtie\", \"pinecrest\", \"believ\", \"hospitalisation\", \"yong\", \"event\", \"hurricane\", \"estimate\", \"storm\", \"weather\", \"flood\", \"damage\", \"climate\", \"wind\", \"disaster\", \"forecast\", \"season\", \"severe\", \"parametric\", \"insured\", \"insure\", \"wildfire\", \"japan\", \"typhoon\", \"occur\", \"flooding\", \"tropical\", \"pandemic\", \"resilience\", \"payout\", \"surge\", \"fire\", \"strike\", \"atlantic\", \"financing\", \"loss\", \"country\", \"region\", \"impact\", \"trigger\", \"earthquake\", \"industry\", \"natural\", \"model\", \"economic\", \"claim\", \"exposure\", \"world\", \"major\", \"include\", \"property\", \"expect\", \"report\", \"area\", \"catastrophe\", \"high\", \"result\", \"potential\", \"view\", \"pensioner\", \"lgps\", \"downs\", \"gbs\", \"misdemeanour\", \"pilates\", \"dissuade\", \"zain\", \"5:1\", \"tug\", \"repetoire\", \"dissapointing\", \"sahara\", \"deller\", \"managament\", \"jess\", \"maurizio\", \"compassionate\", \"busienss\", \"mcmorrow\", \"neumann\", \"stink\", \"pathfinder\", \"caley\", \"maximising\", \"intially\", \"lingus\", \"absenteeism\", \"4k\", \"flavin\", \"pension\", \"scheme\", \"retirement\", \"employer\", \"tax\", \"saving\", \"contribution\", \"trustee\", \"employee\", \"age\", \"save\", \"annuity\", \"define\", \"funding\", \"woman\", \"saver\", \"workplace\", \"deficit\", \"pot\", \"worker\", \"young\", \"family\", \"care\", \"freedom\", \"retire\", \"relief\", \"drawdown\", \"man\", \"medical\", \"health\", \"member\", \"government\", \"benefit\", \"choice\", \"option\", \"life\", \"plan\", \"income\", \"pay\", \"money\", \"work\", \"individual\", \"state\", \"research\", \"adviser\", \"change\", \"cost\", \"financial\", \"increase\", \"support\", \"year\", \"future\", \"grobler\", \"placeholder\", \"effluent\", \"cola\", \"saucepan\", \"alterative\", \"contessa\", \"rosenthal\", \"hecke\", \"liza\", \"mattsson\", \"dtc\", \"retool\", \"milion\", \"sold\", \"silvestris\", \"recapitalize\", \"syndication\", \"acm\", \"buda\", \"lodestone\", \"burgling\", \"felicia\", \"hunton\", \"infomercial\", \"incorporated\", \"60m+\", \"interweave\", \"calypso\", \"alterra\", \"capital\", \"ils\", \"transaction\", \"reinsurer\", \"capacity\", \"issuance\", \"renewal\", \"tranche\", \"sidecar\", \"collateralized\", \"il\", \"retrocession\", \"deploy\", \"collateralised\", \"collateralize\", \"ii\", \"swap\", \"cede\", \"blue\", \"secondary\", \"retro\", \"series\", \"collateral\", \"directory\", \"coupon\", \"hannover\", \"quota\", \"domicile\", \"everest\", \"player\", \"reinsurance\", \"bond\", \"traditional\", \"security\", \"note\", \"bermuda\", \"alternative\", \"catastrophe\", \"deal\", \"source\", \"class\", \"investor\", \"access\", \"spotify\", \"typical\", \"apple\", \"google\", \"content\", \"space\", \"provider\", \"pricing\", \"view\", \"include\", \"provide\", \"service\", \"manager\", \"continue\", \"firm\", \"fund\", \"overturn\", \"awful\", \"iceberg\", \"validity\", \"offline\", \"custodial\", \"subtle\", \"gun\", \"chat\", \"disciplinary\", \"polling\", \"nuisance_call\", \"windscreen\", \"civil_liability_bill\", \"clearance\", \"tribunal\", \"aae\", \"betting\", \"assembly\", \"salvage\", \"stott\", \"reparative\", \"redactor\", \"aop\", \"ma\", \"hutchins\", \"undeniable\", \"retrieval\", \"cauterize\", \"crooked\", \"fca\", \"regulator\", \"requirement\", \"regulation\", \"car\", \"identify\", \"eu\", \"commission\", \"fraud\", \"law\", \"framework\", \"compensation\", \"abi\", \"complaint\", \"\\u201dthe\", \"court\", \"document\", \"application\", \"accident\", \"implementation\", \"injury\", \"contact\", \"request\", \"investigation\", \"code\", \"levy\", \"disclosure\", \"letter\", \"telematic\", \"body\", \"solvency\", \"information\", \"website\", \"customer\", \"driver\", \"consumer\", \"regulatory\", \"process\", \"conduct\", \"datum\", \"action\", \"data\", \"standard\", \"rule\", \"case\", \"review\", \"act\", \"advice\", \"require\", \"policy\", \"claim\", \"decision\", \"system\", \"issue\", \"change\", \"product\", \"set\", \"firm\", \"cost\", \"good\", \"risk\", \"place\", \"transfer\"], \"Freq\": [92131.0, 70844.0, 68218.0, 64539.0, 65005.0, 55617.0, 55706.0, 43890.0, 48441.0, 29862.0, 27501.0, 20749.0, 25813.0, 29368.0, 33390.0, 17912.0, 39726.0, 16822.0, 22369.0, 18221.0, 17760.0, 21402.0, 17344.0, 23835.0, 26806.0, 22707.0, 13129.0, 13106.0, 19382.0, 15981.0, 146.02904757398866, 1.0816966486962125, 1.0816966486962125, 1.0816966486962125, 1.0816966486962125, 3.2450899460886373, 8.6535731895697, 3.2450899460886373, 19.470539676531825, 14.062056433050762, 9.735269838265912, 27.04241621740531, 1.0816966486962125, 14.062056433050762, 1.0816966486962125, 88.69912519308942, 22.71562962262046, 7.571876540873487, 3.2450899460886373, 4.32678659478485, 2.163393297392425, 4.32678659478485, 1.0816966486962125, 1.0816966486962125, 5.4084832434810615, 4.32678659478485, 11.898663135658337, 6.490179892177275, 16.225449730443184, 21.633932973924246, 27501.0555964525, 8190.607023927721, 7278.736749076814, 6240.30796632845, 4018.503049906429, 3511.1873216679055, 3159.6359108416364, 3086.080538730294, 3039.567582836357, 2308.3406483177173, 2257.500905828995, 1890.8057419209792, 1874.580292190536, 1567.3784439608116, 1517.620398120786, 1094.6770084805669, 1037.3470860996676, 976.7720737726797, 970.2818938805025, 829.661329549995, 793.96534014302, 778.821587061273, 751.7791708438676, 815.5992731169442, 708.511304896019, 696.6126417603608, 691.2041585168798, 681.4688886786139, 656.5898657586009, 640.3644160281577, 8511.870928590495, 5743.809204576888, 40023.85769840856, 11884.601079225286, 23272.703396699013, 3971.990094012492, 1420.2676997381268, 4883.860368863399, 2036.8347894949682, 2572.274630599593, 38517.05426677473, 17488.87141612036, 7790.379263910122, 4817.87687329293, 4824.367053185108, 6160.2624143249295, 14578.025734478855, 26058.072267091757, 7088.358138906279, 12486.024415900381, 5321.947511585365, 9448.620226361416, 9927.811841733837, 10206.889577097461, 11207.458977141458, 7771.990420882286, 9583.832307448441, 8821.236170117612, 9435.639866577061, 12363.792694597709, 11414.063037042433, 7448.563122922118, 9635.75374658586, 11328.609001795432, 7098.093408744546, 7696.271655473551, 8741.190618114093, 7456.134999462993, 2.075687539827216, 4.151375079654432, 16.60550031861773, 1.037843769913608, 6.227062619481648, 6.227062619481648, 24.908250477926593, 3.113531309740824, 7.264906389395256, 1.037843769913608, 6.227062619481648, 9.340593929222472, 61.23278242490287, 1.037843769913608, 24.908250477926593, 1.037843769913608, 1.037843769913608, 31.13531309740824, 3.113531309740824, 4.151375079654432, 4.151375079654432, 4.151375079654432, 12.454125238963297, 3.113531309740824, 3.113531309740824, 4.151375079654432, 3.113531309740824, 9.340593929222472, 2.075687539827216, 76.800438973607, 13128.723689407141, 10320.318448020918, 9540.897776815798, 8702.320010725603, 7556.5404887409795, 6907.888132544975, 6205.267900313463, 5867.96867509154, 5330.365602276291, 4927.682219549811, 4681.713246080286, 11844.910946024009, 4386.9656154248205, 4207.4186432297665, 3998.8120454771315, 3535.9337240956625, 3397.9005026971527, 3376.105783528967, 3305.532407174842, 3184.104686094949, 3121.834059900133, 3022.201057988427, 2802.1781787667414, 2755.4752091206296, 2651.6908321292685, 2641.3123944301324, 2622.6312065716875, 2530.2631110493767, 2434.7814842173243, 2311.278075597605, 3637.642413547196, 7934.315620989533, 12174.945264856535, 6251.970869959575, 8944.137609115474, 7250.376576616466, 5575.296731975902, 10367.02141766703, 9716.293373931197, 3998.8120454771315, 15287.438730827445, 10998.030429774504, 7518.140269254176, 5117.607629444002, 5651.059327179596, 9591.752121541565, 11025.014367792259, 8926.494265026942, 7834.6826190778265, 6568.513219783225, 9918.672909064351, 7763.071398953788, 7612.584052316315, 9463.059494072279, 7849.2124318566175, 7787.979649431715, 8107.635530565105, 6935.909914332642, 6260.273620118884, 1.1268251441205672, 1.1268251441205672, 1.1268251441205672, 42.819355476581556, 15.775552017687943, 9.014601152964538, 4.507300576482269, 2.2536502882411344, 1.1268251441205672, 2.2536502882411344, 21.409677738290778, 1.1268251441205672, 2.2536502882411344, 9.014601152964538, 1.1268251441205672, 2.2536502882411344, 1.1268251441205672, 1.1268251441205672, 7.8877760088439715, 2.2536502882411344, 9.014601152964538, 4.507300576482269, 63.10220807075177, 19.156027450049645, 19.156027450049645, 1.1268251441205672, 1.1268251441205672, 1.1268251441205672, 1.1268251441205672, 19.156027450049645, 20749.358203836127, 16822.372576575952, 11910.541773354398, 11822.649412112993, 8594.295374207566, 7740.1619149641765, 7198.159020642184, 6421.776496343114, 6161.479888051262, 5733.286333285447, 5711.876655547156, 4892.674775771504, 4453.212969564483, 4401.379012934936, 3799.654385974553, 3494.2847719178794, 3398.5046346676313, 3375.96813178522, 3165.251829834674, 3468.3677936031063, 3073.9789931609075, 2991.720757640106, 2648.039088683333, 2540.9906999918794, 2376.4742289502765, 2314.4988460236455, 2300.9769442941983, 2300.9769442941983, 2199.5626813233475, 2157.8701509908865, 49514.95048294598, 7274.783130442383, 6882.647980288425, 16012.185297953261, 6067.953401089256, 5632.998895458716, 15929.92706243246, 4414.900914664383, 8772.333746978617, 6045.416898206844, 9146.439694826646, 6118.6605325746805, 6331.630484813468, 6240.357648139702, 10944.852624843072, 7687.2011331905105, 9396.594876821411, 8380.198596824659, 6310.220807075178, 10476.093364888915, 7620.718449687397, 5866.251700291674, 5779.48616419439, 5802.022667076801, 2337.803927918936, 649.7497528195751, 1.079318526278364, 2.158637052556728, 9.713866736505276, 4.317274105113456, 19.42773347301055, 2.158637052556728, 2.158637052556728, 14.031140841618733, 1.079318526278364, 1.079318526278364, 2.158637052556728, 1.079318526278364, 1.079318526278364, 1.079318526278364, 2.158637052556728, 2.158637052556728, 1.079318526278364, 1.079318526278364, 1.079318526278364, 1.079318526278364, 6.4759111576701835, 1.079318526278364, 1.079318526278364, 2.158637052556728, 31.300237262072557, 20.507051999288915, 49.64865220880475, 1.079318526278364, 70844.30942785925, 29862.584985069774, 17912.370262115728, 13106.164864598173, 10617.256343000266, 9882.2404266047, 9501.240986828438, 9259.473636942084, 8879.5535156921, 7868.2320565692735, 6603.2707437710305, 6443.531601881832, 5356.657845919521, 5270.312363817251, 3635.14479650553, 3555.275225560931, 3513.1818030360746, 3290.8421866227313, 3241.1935344139265, 3233.6383047299787, 2949.7775323187684, 2818.1006721128083, 2798.672938639798, 2791.117708955849, 2580.650596331568, 2630.299248540373, 2431.704639705154, 2288.1552757101317, 1964.3597178266223, 4555.803499420974, 15836.840736082435, 14208.149079928384, 18571.83388167181, 3725.807552712912, 5719.308870749051, 14055.965167723134, 11632.895076228207, 12095.922724001624, 9594.062380088377, 6400.358860830698, 11606.991431597527, 5884.444605269639, 8192.027614452783, 6025.835332212106, 4934.64430214468, 10221.146443856107, 8581.661602439272, 8874.156923060707, 7706.3342776275185, 6528.7977654578235, 6184.495155575025, 6004.248961686538, 1.07508928734089, 4.30035714936356, 1.07508928734089, 15.05125002277246, 1.07508928734089, 4.30035714936356, 1.07508928734089, 1.07508928734089, 1.07508928734089, 1.07508928734089, 1.07508928734089, 2.15017857468178, 1.07508928734089, 1.07508928734089, 1.07508928734089, 1.07508928734089, 7.52562501138623, 108.5840180214299, 31.177589332885812, 4.30035714936356, 56.97973222906717, 1.07508928734089, 1.07508928734089, 1.07508928734089, 1.07508928734089, 7.52562501138623, 1.07508928734089, 1.07508928734089, 108.5840180214299, 120.41000018217969, 64539.760097648315, 67769.32831682035, 18221.688331140744, 17756.174669722142, 11989.395732425606, 8364.194655512125, 8450.201798499396, 5735.601347963649, 3962.7791131385206, 3153.2368797708305, 3143.5610761847624, 2860.8125936141087, 2492.0569680561835, 2450.1284858498884, 2426.4765215283887, 2192.107056888075, 2171.680360428598, 2155.554021118485, 1951.2870565237154, 2377.022414310708, 1853.4539313756943, 8185.729833813537, 1796.4741991466274, 1763.1464312390597, 1693.2656275619017, 1543.8282166215183, 1535.227502322791, 1490.0737522544737, 1238.5028590167053, 4316.483488673674, 87811.14281142922, 61519.83428950776, 9667.202871769283, 26197.77575392281, 16314.479935398009, 5196.981615005862, 11414.22296369823, 45230.081407718586, 18019.57154512066, 8684.571263139711, 10459.543676539519, 24648.572090864585, 11588.387428247453, 10292.90483700168, 11163.727159747803, 10355.260015667453, 10374.61162283959, 10554.151533825518, 5005.615721859184, 14282.561182323725, 9483.362603633992, 13297.77939511947, 16528.422703578846, 11882.961892978858, 11552.909481765204, 9682.254121792055, 9978.978765098142, 9396.280371359378, 9924.149211443755, 41.648750261292754, 41.648750261292754, 41.648750261292754, 41.648750261292754, 41.648750261292754, 41.648750261292754, 41.648750261292754, 41.648750261292754, 83.29750052258551, 41.648750261292754, 41.648750261292754, 41.648750261292754, 41.648750261292754, 41.648750261292754, 41.648750261292754, 166.59500104517102, 41.648750261292754, 41.648750261292754, 41.648750261292754, 83.29750052258551, 7.475416713565366, 1.0679166733664809, 1.0679166733664809, 3.2037500200994424, 177.27416777883585, 1.0679166733664809, 24.56208348742906, 8.543333386931847, 1.0679166733664809, 4.2716666934659235, 10463.44756564478, 7731.716715173322, 4995.714198008397, 4883.582947304917, 3914.982524561519, 3873.333774300226, 3676.837106400794, 2953.8575185316863, 2780.8550174463167, 2589.6979329137157, 2557.6604327127216, 2426.3066818886446, 2130.4937633661293, 2118.746679959098, 2029.0416793963136, 1975.6458457279898, 1966.0345956676913, 1943.6083455269952, 1898.755845245603, 2002.3437625621516, 1697.9875106527045, 1686.2404272456731, 1649.931260351213, 1517.5095928537694, 1577.3129265622922, 1442.7554257181155, 1412.853758863854, 1409.6500088437547, 1347.710841788499, 1346.6429251151324, 4031.385441958465, 8384.213802600241, 1876.329595104907, 11014.492569101885, 4667.863779284888, 7486.095880299031, 5464.529617616282, 6885.926709867068, 2366.5033481801215, 11581.556322659484, 4411.563777676933, 2504.2645990443975, 4975.423781214434, 4209.727526410667, 5758.206702792065, 5628.988785314721, 3725.961273375652, 6505.748374148601, 4269.530860119191, 6599.725041404852, 7292.802962419698, 4674.271279325087, 4708.444612872814, 6725.739208862096, 7875.885466077796, 6280.417956068274, 5096.098365304846, 5410.065867274591, 4962.608781134037, 4880.379197284818, 4864.36044718432, 4315.451277073949, 4304.772110340285], \"Total\": [92131.0, 70844.0, 68218.0, 64539.0, 65005.0, 55617.0, 55706.0, 43890.0, 48441.0, 29862.0, 27501.0, 20749.0, 25813.0, 29368.0, 33390.0, 17912.0, 39726.0, 16822.0, 22369.0, 18221.0, 17760.0, 21402.0, 17344.0, 23835.0, 26806.0, 22707.0, 13129.0, 13106.0, 19382.0, 15981.0, 146.02904757398866, 1.0816966486962125, 1.0816966486962125, 1.0816966486962125, 1.0816966486962125, 3.2450899460886373, 8.6535731895697, 3.2450899460886373, 19.470539676531825, 14.062056433050762, 9.735269838265912, 27.04241621740531, 1.0816966486962125, 14.062056433050762, 1.0816966486962125, 88.69912519308942, 22.71562962262046, 7.571876540873487, 3.2450899460886373, 4.32678659478485, 2.163393297392425, 4.32678659478485, 1.0816966486962125, 1.0816966486962125, 5.4084832434810615, 4.32678659478485, 11.898663135658337, 6.490179892177275, 16.225449730443184, 21.633932973924246, 27501.0555964525, 8190.607023927721, 7278.736749076814, 6240.30796632845, 4018.503049906429, 3511.1873216679055, 3159.6359108416364, 3086.080538730294, 3040.6426721236976, 2308.3406483177173, 2257.500905828995, 1890.8057419209792, 1874.580292190536, 1567.3784439608116, 1517.620398120786, 1094.6770084805669, 1037.3470860996676, 976.7720737726797, 970.2818938805025, 829.661329549995, 793.96534014302, 778.821587061273, 751.7791708438676, 816.6785916432226, 708.511304896019, 696.6126417603608, 691.2041585168798, 681.4688886786139, 656.5898657586009, 640.3644160281577, 8742.845093214066, 5888.946258367908, 43890.466946078035, 12717.57608445114, 25813.419207558283, 4222.145276007258, 1452.6472555264777, 5272.615043584995, 2120.6917539075575, 2714.2545987587846, 48441.203478218486, 21402.1964220412, 9070.751361881554, 5447.84804163049, 5519.448184108374, 7323.145963057355, 19382.204545408946, 39726.917187023166, 9027.134220520436, 17655.279881208397, 6475.51831690214, 12841.218571094209, 14067.044539241497, 14818.571625106357, 17451.577558017347, 11118.798508541116, 14962.88998394864, 13833.259483822425, 15876.106477953277, 24637.440623354323, 23191.454732157, 11421.760040787552, 18531.417576168355, 27361.065891364622, 12338.078595244046, 17716.668362050423, 33390.84202750496, 23835.86444622878, 2.075687539827216, 4.151375079654432, 16.60550031861773, 1.037843769913608, 6.227062619481648, 6.227062619481648, 24.908250477926593, 3.113531309740824, 7.264906389395256, 1.037843769913608, 6.227062619481648, 9.340593929222472, 61.23278242490287, 1.037843769913608, 24.908250477926593, 1.037843769913608, 1.037843769913608, 31.13531309740824, 3.113531309740824, 4.151375079654432, 4.151375079654432, 4.151375079654432, 12.454125238963297, 3.113531309740824, 3.113531309740824, 4.151375079654432, 3.113531309740824, 9.340593929222472, 2.075687539827216, 76.800438973607, 13129.805386055838, 10320.318448020918, 9540.897776815798, 8702.320010725603, 7556.5404887409795, 6907.888132544975, 6205.267900313463, 5867.96867509154, 5330.365602276291, 4928.809044693931, 4681.713246080286, 11959.318709809515, 4386.9656154248205, 4207.4186432297665, 3998.8120454771315, 3535.9337240956625, 3397.9005026971527, 3376.105783528967, 3305.532407174842, 3184.104686094949, 3121.834059900133, 3022.201057988427, 2802.1781787667414, 2755.4752091206296, 2651.6908321292685, 2641.3123944301324, 2622.6312065716875, 2530.2631110493767, 2434.7814842173243, 2311.278075597605, 3760.202592304058, 8722.356068610407, 13959.058788794671, 6959.379621029881, 10413.299081282708, 8367.471251314573, 6202.938337251058, 12935.632796212278, 12502.646661480241, 4268.659456599695, 23835.86444622878, 15763.669355045318, 10085.566205653207, 6034.4314522807035, 6981.683502194232, 15004.993499680939, 18630.40703290016, 13754.72025447488, 11412.623533690603, 9520.612412894647, 21992.325395121003, 14515.620011985566, 13999.708875469943, 28192.51217268437, 17779.447680436017, 19394.97108102924, 26806.399573323462, 15653.099650297674, 13280.71790317261, 1.1268251441205672, 1.1268251441205672, 1.1268251441205672, 42.819355476581556, 15.775552017687943, 9.014601152964538, 4.507300576482269, 2.2536502882411344, 1.1268251441205672, 2.2536502882411344, 21.409677738290778, 1.1268251441205672, 2.2536502882411344, 9.014601152964538, 1.1268251441205672, 2.2536502882411344, 1.1268251441205672, 1.1268251441205672, 7.8877760088439715, 2.2536502882411344, 9.014601152964538, 4.507300576482269, 63.10220807075177, 19.156027450049645, 19.156027450049645, 1.1268251441205672, 1.1268251441205672, 1.1268251441205672, 1.1268251441205672, 19.156027450049645, 20749.358203836127, 16822.372576575952, 11910.541773354398, 11822.649412112993, 8594.295374207566, 7740.1619149641765, 7198.159020642184, 6421.776496343114, 6161.479888051262, 5733.286333285447, 5711.876655547156, 4892.674775771504, 4453.212969564483, 4401.379012934936, 3799.654385974553, 3494.2847719178794, 3398.5046346676313, 3375.96813178522, 3165.251829834674, 3471.6057491819415, 3073.9789931609075, 2991.720757640106, 2648.039088683333, 2540.9906999918794, 2376.4742289502765, 2314.4988460236455, 2300.9769442941983, 2300.9769442941983, 2199.5626813233475, 2157.8701509908865, 55617.15727789287, 7716.224407690233, 7409.764869011756, 22707.287219379246, 7424.716081713459, 6984.386129646215, 26806.399573323462, 5167.463415803006, 14136.101056173968, 8691.24690091778, 16439.242657246345, 9350.800050406886, 10101.441341407477, 10510.719369477005, 30457.31189801359, 15731.563923456759, 27361.065891364622, 21559.166588844168, 11467.923687709388, 55706.1747726075, 24637.440623354323, 17716.668362050423, 12225.059992047376, 21202.744241380922, 2337.803927918936, 649.7497528195751, 1.079318526278364, 2.158637052556728, 9.713866736505276, 4.317274105113456, 19.42773347301055, 2.158637052556728, 2.158637052556728, 14.031140841618733, 1.079318526278364, 1.079318526278364, 2.158637052556728, 1.079318526278364, 1.079318526278364, 1.079318526278364, 2.158637052556728, 2.158637052556728, 1.079318526278364, 1.079318526278364, 1.079318526278364, 1.079318526278364, 6.4759111576701835, 1.079318526278364, 1.079318526278364, 2.158637052556728, 31.300237262072557, 20.507051999288915, 49.64865220880475, 1.079318526278364, 70844.30942785925, 29862.584985069774, 17912.370262115728, 13106.164864598173, 10617.256343000266, 9882.2404266047, 9501.240986828438, 9259.473636942084, 8879.5535156921, 7868.2320565692735, 6603.2707437710305, 6443.531601881832, 5356.657845919521, 5270.312363817251, 3635.14479650553, 3555.275225560931, 3513.1818030360746, 3290.8421866227313, 3241.1935344139265, 3233.6383047299787, 2950.815376088682, 2818.1006721128083, 2798.672938639798, 2791.117708955849, 2580.650596331568, 2631.3809451890693, 2431.704639705154, 2288.1552757101317, 1964.3597178266223, 4627.9203086446905, 17344.739078875908, 15981.771856774158, 22369.049244559832, 3872.180769788158, 6330.841014668707, 17663.72972259411, 15169.042188870555, 16756.953583233604, 13374.99220479202, 8194.458872086387, 19394.97108102924, 8186.872953047772, 13983.858317743989, 8692.45107687637, 6280.274933122769, 25917.822881267777, 19227.264237869298, 21002.73967776558, 39726.917187023166, 17779.447680436017, 21064.77486689604, 13305.045647590745, 1.07508928734089, 4.30035714936356, 1.07508928734089, 15.05125002277246, 1.07508928734089, 4.30035714936356, 1.07508928734089, 1.07508928734089, 1.07508928734089, 1.07508928734089, 1.07508928734089, 2.15017857468178, 1.07508928734089, 1.07508928734089, 1.07508928734089, 1.07508928734089, 7.52562501138623, 108.5840180214299, 31.177589332885812, 4.30035714936356, 56.97973222906717, 1.07508928734089, 1.07508928734089, 1.07508928734089, 1.07508928734089, 7.52562501138623, 1.07508928734089, 1.07508928734089, 108.5840180214299, 120.41000018217969, 64539.760097648315, 68218.93154932445, 18221.688331140744, 17760.49907819451, 11989.395732425606, 8364.194655512125, 8451.269715172763, 5735.601347963649, 3962.7791131385206, 3153.2368797708305, 3143.5610761847624, 2860.8125936141087, 2492.0569680561835, 2450.1284858498884, 2426.4765215283887, 2192.107056888075, 2171.680360428598, 2155.554021118485, 1951.2870565237154, 2382.6565400313107, 1853.4539313756943, 8311.93424995504, 1796.4741991466274, 1763.1464312390597, 1693.2656275619017, 1543.8282166215183, 1535.227502322791, 1490.0737522544737, 1238.5028590167053, 4374.6027397888365, 92131.39041398748, 65005.104460272676, 9937.627033943336, 29368.66170947809, 18036.03312173122, 5464.745307643573, 12745.791538243267, 55706.1747726075, 21202.57656251599, 9803.508631251434, 12209.728854129991, 33390.84202750496, 14646.590869390673, 12918.407422802602, 14202.774573440973, 13073.16226328626, 13112.796723052568, 13980.826797096162, 5615.2073697456435, 21958.796411251617, 12952.363756002746, 21202.744241380922, 30457.31189801359, 23791.842192630378, 28192.51217268437, 16543.17755244767, 23191.454732157, 18761.129656416215, 48441.203478218486, 41.648750261292754, 41.648750261292754, 41.648750261292754, 41.648750261292754, 41.648750261292754, 41.648750261292754, 41.648750261292754, 41.648750261292754, 83.29750052258551, 41.648750261292754, 41.648750261292754, 41.648750261292754, 41.648750261292754, 41.648750261292754, 41.648750261292754, 166.59500104517102, 41.648750261292754, 41.648750261292754, 41.648750261292754, 83.29750052258551, 7.475416713565366, 1.0679166733664809, 1.0679166733664809, 3.2037500200994424, 177.27416777883585, 1.0679166733664809, 24.56208348742906, 8.543333386931847, 1.0679166733664809, 4.2716666934659235, 10463.44756564478, 7731.716715173322, 4995.714198008397, 4883.582947304917, 3914.982524561519, 3873.333774300226, 3676.837106400794, 2954.9392151803827, 2780.8550174463167, 2589.6979329137157, 2557.6604327127216, 2426.3066818886446, 2130.4937633661293, 2118.746679959098, 2029.0416793963136, 1975.6458457279898, 1966.0345956676913, 1943.6083455269952, 1898.755845245603, 2003.4254592108477, 1697.9875106527045, 1686.2404272456731, 1649.931260351213, 1517.5095928537694, 1578.3880158496331, 1442.7554257181155, 1412.853758863854, 1409.6500088437547, 1347.710841788499, 1346.6429251151324, 4125.493050395035, 8848.465761977915, 1906.7538739961624, 13052.900682724941, 5163.280844387753, 8916.192927617863, 6309.334446325959, 8354.37709700938, 2486.30770459702, 16302.953676524661, 5350.193123126096, 2726.2491524361494, 6852.89532036111, 5571.827506573963, 8632.62220690806, 8477.310376163325, 4892.433150140518, 11423.123579872827, 6255.215622421101, 13080.331762783637, 16439.242657246345, 7955.399599211312, 8459.123116638344, 17551.200664780503, 25917.822881267777, 18630.40703290016, 13766.939259927998, 18761.129656416215, 19227.264237869298, 18792.361501631094, 20236.693790862388, 11474.305818006847, 18716.09847827506], \"Category\": [\"Default\", \"Default\", \"Default\", \"Default\", \"Default\", \"Default\", \"Default\", \"Default\", \"Default\", \"Default\", \"Default\", \"Default\", \"Default\", \"Default\", \"Default\", \"Default\", \"Default\", \"Default\", \"Default\", \"Default\", \"Default\", \"Default\", \"Default\", \"Default\", \"Default\", \"Default\", \"Default\", \"Default\", \"Default\", \"Default\", \"Topic1\", \"Topic1\", \"Topic1\", \"Topic1\", \"Topic1\", \"Topic1\", \"Topic1\", \"Topic1\", \"Topic1\", \"Topic1\", \"Topic1\", \"Topic1\", \"Topic1\", \"Topic1\", \"Topic1\", \"Topic1\", \"Topic1\", \"Topic1\", \"Topic1\", \"Topic1\", \"Topic1\", \"Topic1\", \"Topic1\", \"Topic1\", \"Topic1\", \"Topic1\", \"Topic1\", \"Topic1\", \"Topic1\", \"Topic1\", \"Topic1\", \"Topic1\", \"Topic1\", \"Topic1\", \"Topic1\", \"Topic1\", \"Topic1\", \"Topic1\", \"Topic1\", \"Topic1\", \"Topic1\", \"Topic1\", \"Topic1\", \"Topic1\", \"Topic1\", \"Topic1\", \"Topic1\", \"Topic1\", \"Topic1\", \"Topic1\", \"Topic1\", \"Topic1\", \"Topic1\", \"Topic1\", \"Topic1\", \"Topic1\", \"Topic1\", \"Topic1\", \"Topic1\", \"Topic1\", \"Topic1\", \"Topic1\", \"Topic1\", \"Topic1\", \"Topic1\", \"Topic1\", \"Topic1\", \"Topic1\", \"Topic1\", \"Topic1\", \"Topic1\", \"Topic1\", \"Topic1\", \"Topic1\", \"Topic1\", \"Topic1\", \"Topic1\", \"Topic1\", \"Topic1\", \"Topic1\", \"Topic1\", \"Topic1\", \"Topic1\", \"Topic1\", \"Topic1\", \"Topic1\", \"Topic1\", \"Topic1\", \"Topic1\", \"Topic1\", \"Topic1\", \"Topic1\", \"Topic1\", \"Topic1\", \"Topic1\", \"Topic1\", \"Topic1\", \"Topic1\", \"Topic2\", \"Topic2\", \"Topic2\", \"Topic2\", \"Topic2\", \"Topic2\", \"Topic2\", \"Topic2\", \"Topic2\", \"Topic2\", \"Topic2\", \"Topic2\", \"Topic2\", \"Topic2\", \"Topic2\", \"Topic2\", \"Topic2\", \"Topic2\", \"Topic2\", \"Topic2\", \"Topic2\", \"Topic2\", \"Topic2\", \"Topic2\", \"Topic2\", \"Topic2\", \"Topic2\", \"Topic2\", \"Topic2\", \"Topic2\", \"Topic2\", \"Topic2\", \"Topic2\", \"Topic2\", \"Topic2\", \"Topic2\", \"Topic2\", \"Topic2\", \"Topic2\", \"Topic2\", \"Topic2\", \"Topic2\", \"Topic2\", \"Topic2\", \"Topic2\", \"Topic2\", \"Topic2\", \"Topic2\", \"Topic2\", \"Topic2\", \"Topic2\", \"Topic2\", \"Topic2\", \"Topic2\", \"Topic2\", \"Topic2\", \"Topic2\", \"Topic2\", \"Topic2\", \"Topic2\", \"Topic2\", \"Topic2\", \"Topic2\", \"Topic2\", \"Topic2\", \"Topic2\", \"Topic2\", \"Topic2\", \"Topic2\", \"Topic2\", \"Topic2\", \"Topic2\", \"Topic2\", \"Topic2\", \"Topic2\", \"Topic2\", \"Topic2\", \"Topic2\", \"Topic2\", \"Topic2\", \"Topic2\", \"Topic2\", \"Topic2\", \"Topic2\", \"Topic2\", \"Topic2\", \"Topic2\", \"Topic2\", \"Topic2\", \"Topic3\", \"Topic3\", \"Topic3\", \"Topic3\", \"Topic3\", \"Topic3\", \"Topic3\", \"Topic3\", \"Topic3\", \"Topic3\", \"Topic3\", \"Topic3\", \"Topic3\", \"Topic3\", \"Topic3\", \"Topic3\", \"Topic3\", \"Topic3\", \"Topic3\", \"Topic3\", \"Topic3\", \"Topic3\", \"Topic3\", \"Topic3\", \"Topic3\", \"Topic3\", \"Topic3\", \"Topic3\", \"Topic3\", \"Topic3\", \"Topic3\", \"Topic3\", \"Topic3\", \"Topic3\", \"Topic3\", \"Topic3\", \"Topic3\", \"Topic3\", \"Topic3\", \"Topic3\", \"Topic3\", \"Topic3\", \"Topic3\", \"Topic3\", \"Topic3\", \"Topic3\", \"Topic3\", \"Topic3\", \"Topic3\", \"Topic3\", \"Topic3\", \"Topic3\", \"Topic3\", \"Topic3\", \"Topic3\", \"Topic3\", \"Topic3\", \"Topic3\", \"Topic3\", \"Topic3\", \"Topic3\", \"Topic3\", \"Topic3\", \"Topic3\", \"Topic3\", \"Topic3\", \"Topic3\", \"Topic3\", \"Topic3\", \"Topic3\", \"Topic3\", \"Topic3\", \"Topic3\", \"Topic3\", \"Topic3\", \"Topic3\", \"Topic3\", \"Topic3\", \"Topic3\", \"Topic3\", \"Topic3\", \"Topic3\", \"Topic3\", \"Topic3\", \"Topic4\", \"Topic4\", \"Topic4\", \"Topic4\", \"Topic4\", \"Topic4\", \"Topic4\", \"Topic4\", \"Topic4\", \"Topic4\", \"Topic4\", \"Topic4\", \"Topic4\", \"Topic4\", \"Topic4\", \"Topic4\", \"Topic4\", \"Topic4\", \"Topic4\", \"Topic4\", \"Topic4\", \"Topic4\", \"Topic4\", \"Topic4\", \"Topic4\", \"Topic4\", \"Topic4\", \"Topic4\", \"Topic4\", \"Topic4\", \"Topic4\", \"Topic4\", \"Topic4\", \"Topic4\", \"Topic4\", \"Topic4\", \"Topic4\", \"Topic4\", \"Topic4\", \"Topic4\", \"Topic4\", \"Topic4\", \"Topic4\", \"Topic4\", \"Topic4\", \"Topic4\", \"Topic4\", \"Topic4\", \"Topic4\", \"Topic4\", \"Topic4\", \"Topic4\", \"Topic4\", \"Topic4\", \"Topic4\", \"Topic4\", \"Topic4\", \"Topic4\", \"Topic4\", \"Topic4\", \"Topic4\", \"Topic4\", \"Topic4\", \"Topic4\", \"Topic4\", \"Topic4\", \"Topic4\", \"Topic4\", \"Topic4\", \"Topic4\", \"Topic4\", \"Topic4\", \"Topic4\", \"Topic4\", \"Topic4\", \"Topic4\", \"Topic4\", \"Topic4\", \"Topic4\", \"Topic4\", \"Topic4\", \"Topic4\", \"Topic5\", \"Topic5\", \"Topic5\", \"Topic5\", \"Topic5\", \"Topic5\", \"Topic5\", \"Topic5\", \"Topic5\", \"Topic5\", \"Topic5\", \"Topic5\", \"Topic5\", \"Topic5\", \"Topic5\", \"Topic5\", \"Topic5\", \"Topic5\", \"Topic5\", \"Topic5\", \"Topic5\", \"Topic5\", \"Topic5\", \"Topic5\", \"Topic5\", \"Topic5\", \"Topic5\", \"Topic5\", \"Topic5\", \"Topic5\", \"Topic5\", \"Topic5\", \"Topic5\", \"Topic5\", \"Topic5\", \"Topic5\", \"Topic5\", \"Topic5\", \"Topic5\", \"Topic5\", \"Topic5\", \"Topic5\", \"Topic5\", \"Topic5\", \"Topic5\", \"Topic5\", \"Topic5\", \"Topic5\", \"Topic5\", \"Topic5\", \"Topic5\", \"Topic5\", \"Topic5\", \"Topic5\", \"Topic5\", \"Topic5\", \"Topic5\", \"Topic5\", \"Topic5\", \"Topic5\", \"Topic5\", \"Topic5\", \"Topic5\", \"Topic5\", \"Topic5\", \"Topic5\", \"Topic5\", \"Topic5\", \"Topic5\", \"Topic5\", \"Topic5\", \"Topic5\", \"Topic5\", \"Topic5\", \"Topic5\", \"Topic5\", \"Topic5\", \"Topic5\", \"Topic5\", \"Topic5\", \"Topic5\", \"Topic5\", \"Topic5\", \"Topic5\", \"Topic5\", \"Topic5\", \"Topic5\", \"Topic5\", \"Topic5\", \"Topic6\", \"Topic6\", \"Topic6\", \"Topic6\", \"Topic6\", \"Topic6\", \"Topic6\", \"Topic6\", \"Topic6\", \"Topic6\", \"Topic6\", \"Topic6\", \"Topic6\", \"Topic6\", \"Topic6\", \"Topic6\", \"Topic6\", \"Topic6\", \"Topic6\", \"Topic6\", \"Topic6\", \"Topic6\", \"Topic6\", \"Topic6\", \"Topic6\", \"Topic6\", \"Topic6\", \"Topic6\", \"Topic6\", \"Topic6\", \"Topic6\", \"Topic6\", \"Topic6\", \"Topic6\", \"Topic6\", \"Topic6\", \"Topic6\", \"Topic6\", \"Topic6\", \"Topic6\", \"Topic6\", \"Topic6\", \"Topic6\", \"Topic6\", \"Topic6\", \"Topic6\", \"Topic6\", \"Topic6\", \"Topic6\", \"Topic6\", \"Topic6\", \"Topic6\", \"Topic6\", \"Topic6\", \"Topic6\", \"Topic6\", \"Topic6\", \"Topic6\", \"Topic6\", \"Topic6\", \"Topic6\", \"Topic6\", \"Topic6\", \"Topic6\", \"Topic6\", \"Topic6\", \"Topic6\", \"Topic6\", \"Topic6\", \"Topic6\", \"Topic6\", \"Topic6\", \"Topic6\", \"Topic6\", \"Topic6\", \"Topic6\", \"Topic6\", \"Topic6\", \"Topic6\", \"Topic6\", \"Topic6\", \"Topic6\", \"Topic6\", \"Topic6\", \"Topic6\", \"Topic6\", \"Topic6\", \"Topic6\", \"Topic6\", \"Topic6\", \"Topic6\", \"Topic6\", \"Topic6\"], \"logprob\": [30.0, 29.0, 28.0, 27.0, 26.0, 25.0, 24.0, 23.0, 22.0, 21.0, 20.0, 19.0, 18.0, 17.0, 16.0, 15.0, 14.0, 13.0, 12.0, 11.0, 10.0, 9.0, 8.0, 7.0, 6.0, 5.0, 4.0, 3.0, 2.0, 1.0, -9.1566, -14.0618, -14.0618, -14.0618, -14.0618, -12.9632, -11.9824, -12.9632, -11.1715, -11.4969, -11.8646, -10.843, -14.0618, -11.4969, -14.0618, -9.6551, -11.0173, -12.1159, -12.9632, -12.6755, -13.3687, -12.6755, -14.0618, -14.0618, -12.4524, -12.6755, -11.6639, -12.2701, -11.3538, -11.0661, -3.9184, -5.1296, -5.2477, -5.4016, -5.8417, -5.9767, -6.0822, -6.1057, -6.1209, -6.3961, -6.4184, -6.5956, -6.6042, -6.7832, -6.8155, -7.1422, -7.1959, -7.2561, -7.2628, -7.4193, -7.4633, -7.4826, -7.5179, -7.4364, -7.5772, -7.5941, -7.6019, -7.6161, -7.6533, -7.6783, -5.0911, -5.4845, -3.5431, -4.7574, -4.0853, -5.8533, -6.8818, -5.6467, -6.5212, -6.2878, -3.5815, -4.371, -5.1797, -5.6603, -5.6589, -5.4145, -4.5531, -3.9723, -5.2742, -4.708, -5.5608, -4.9867, -4.9373, -4.9095, -4.816, -5.1821, -4.9725, -5.0554, -4.9881, -4.7178, -4.7978, -5.2246, -4.9671, -4.8053, -5.2728, -5.1919, -5.0646, -5.2236, -13.3261, -12.6329, -11.2466, -14.0192, -12.2275, -12.2275, -10.8412, -12.9206, -12.0733, -14.0192, -12.2275, -11.822, -9.9417, -14.0192, -10.8412, -14.0192, -14.0192, -10.618, -12.9206, -12.6329, -12.6329, -12.6329, -11.5343, -12.9206, -12.9206, -12.6329, -12.9206, -11.822, -13.3261, -9.7152, -4.5738, -4.8145, -4.893, -4.985, -5.1262, -5.2159, -5.3232, -5.3791, -5.4752, -5.5537, -5.6049, -4.6767, -5.67, -5.7118, -5.7626, -5.8856, -5.9255, -5.9319, -5.953, -5.9904, -6.0102, -6.0426, -6.1182, -6.135, -6.1734, -6.1773, -6.1844, -6.2203, -6.2588, -6.3108, -5.8573, -5.0774, -4.6492, -5.3157, -4.9576, -5.1676, -5.4303, -4.81, -4.8748, -5.7626, -4.4216, -4.7509, -5.1313, -5.5159, -5.4168, -4.8877, -4.7484, -4.9596, -5.09, -5.2663, -4.8542, -5.0992, -5.1188, -4.9012, -5.0882, -5.096, -5.0558, -5.2119, -5.3144, -13.9169, -13.9169, -13.9169, -10.2793, -11.2779, -11.8375, -12.5306, -13.2238, -13.9169, -13.2238, -10.9725, -13.9169, -13.2238, -11.8375, -13.9169, -13.2238, -13.9169, -13.9169, -11.971, -13.2238, -11.8375, -12.5306, -9.8916, -11.0837, -11.0837, -13.9169, -13.9169, -13.9169, -13.9169, -11.0837, -4.0961, -4.3059, -4.6511, -4.6585, -4.9775, -5.0821, -5.1547, -5.2689, -5.3102, -5.3823, -5.386, -5.5408, -5.6349, -5.6466, -5.7937, -5.8774, -5.9052, -5.9119, -5.9763, -5.8849, -6.0056, -6.0327, -6.1547, -6.196, -6.2629, -6.2894, -6.2952, -6.2952, -6.3403, -6.3594, -3.2263, -5.1442, -5.1996, -4.3552, -5.3255, -5.3999, -4.3604, -5.6436, -4.957, -5.3293, -4.9152, -5.3172, -5.283, -5.2975, -4.7357, -5.089, -4.8882, -5.0027, -5.2864, -4.7795, -5.0977, -5.3594, -5.3743, -5.3704, -6.3368, -7.6171, -14.0174, -13.3242, -11.8202, -12.6311, -11.127, -13.3242, -13.3242, -11.4524, -14.0174, -14.0174, -13.3242, -14.0174, -14.0174, -14.0174, -13.3242, -13.3242, -14.0174, -14.0174, -14.0174, -14.0174, -12.2256, -14.0174, -14.0174, -13.3242, -10.6501, -11.0729, -10.1887, -14.0174, -2.9255, -3.7894, -4.3005, -4.6129, -4.8235, -4.8952, -4.9345, -4.9603, -5.0022, -5.1231, -5.2984, -5.3229, -5.5076, -5.5239, -5.8953, -5.9175, -5.9294, -5.9948, -6.01, -6.0124, -6.1042, -6.1499, -6.1568, -6.1595, -6.2379, -6.2189, -6.2974, -6.3582, -6.5108, -5.6696, -4.4236, -4.5321, -4.2643, -5.8707, -5.4421, -4.5429, -4.7321, -4.6931, -4.9248, -5.3296, -4.7344, -5.4137, -5.0828, -5.3899, -5.5897, -4.8615, -5.0363, -5.0028, -5.1439, -5.3097, -5.3639, -5.3935, -14.2162, -12.8299, -14.2162, -11.5771, -14.2162, -12.8299, -14.2162, -14.2162, -14.2162, -14.2162, -14.2162, -13.523, -14.2162, -14.2162, -14.2162, -14.2162, -12.2703, -9.6011, -10.8489, -12.8299, -10.2459, -14.2162, -14.2162, -14.2162, -14.2162, -12.2703, -14.2162, -14.2162, -9.6011, -9.4977, -3.2136, -3.1647, -4.4782, -4.5041, -4.8968, -5.2569, -5.2466, -5.6341, -6.0039, -6.2324, -6.2355, -6.3297, -6.4677, -6.4847, -6.4944, -6.596, -6.6053, -6.6128, -6.7123, -6.515, -6.7638, -5.2784, -6.795, -6.8137, -6.8542, -6.9466, -6.9522, -6.982, -7.1669, -5.9184, -2.9056, -3.2615, -5.1121, -4.1152, -4.5888, -5.7328, -4.946, -3.5691, -4.4894, -5.2193, -5.0333, -4.1761, -4.9308, -5.0494, -4.9682, -5.0433, -5.0415, -5.0243, -5.7703, -4.7218, -5.1313, -4.7932, -4.5758, -4.9057, -4.9339, -5.1105, -5.0804, -5.1405, -5.0859, -10.3517, -10.3517, -10.3517, -10.3517, -10.3517, -10.3517, -10.3517, -10.3517, -9.6585, -10.3517, -10.3517, -10.3517, -10.3517, -10.3517, -10.3517, -8.9654, -10.3517, -10.3517, -10.3517, -9.6585, -12.0693, -14.0152, -14.0152, -12.9166, -8.9032, -14.0152, -10.8797, -11.9358, -14.0152, -12.6289, -4.8253, -5.1278, -5.5646, -5.5873, -5.8084, -5.8191, -5.8711, -6.0901, -6.1504, -6.2216, -6.2341, -6.2868, -6.4168, -6.4223, -6.4656, -6.4923, -6.4972, -6.5086, -6.532, -6.4789, -6.6437, -6.6507, -6.6724, -6.7561, -6.7174, -6.8066, -6.8276, -6.8298, -6.8748, -6.8756, -5.7791, -5.0468, -6.5439, -4.774, -5.6325, -5.1601, -5.4749, -5.2437, -6.3118, -4.7238, -5.6889, -6.2552, -5.5687, -5.7358, -5.4225, -5.4452, -5.8578, -5.3005, -5.7217, -5.2861, -5.1863, -5.6311, -5.6238, -5.2672, -5.1094, -5.3357, -5.5447, -5.4849, -5.5712, -5.5879, -5.5912, -5.711, -5.7134], \"loglift\": [30.0, 29.0, 28.0, 27.0, 26.0, 25.0, 24.0, 23.0, 22.0, 21.0, 20.0, 19.0, 18.0, 17.0, 16.0, 15.0, 14.0, 13.0, 12.0, 11.0, 10.0, 9.0, 8.0, 7.0, 6.0, 5.0, 4.0, 3.0, 2.0, 1.0, 1.7711, 1.7711, 1.7711, 1.7711, 1.7711, 1.7711, 1.7711, 1.7711, 1.7711, 1.7711, 1.7711, 1.7711, 1.7711, 1.7711, 1.7711, 1.7711, 1.7711, 1.7711, 1.7711, 1.7711, 1.7711, 1.7711, 1.7711, 1.7711, 1.7711, 1.7711, 1.7711, 1.7711, 1.7711, 1.7711, 1.7711, 1.7711, 1.7711, 1.7711, 1.7711, 1.7711, 1.7711, 1.7711, 1.7707, 1.7711, 1.7711, 1.7711, 1.7711, 1.7711, 1.7711, 1.7711, 1.7711, 1.7711, 1.7711, 1.7711, 1.7711, 1.7711, 1.7711, 1.7697, 1.7711, 1.7711, 1.7711, 1.7711, 1.7711, 1.7711, 1.7443, 1.7461, 1.6788, 1.7033, 1.6675, 1.71, 1.7485, 1.6945, 1.7307, 1.7173, 1.5418, 1.5691, 1.6189, 1.6482, 1.6365, 1.5981, 1.4862, 1.3494, 1.5293, 1.4246, 1.5749, 1.4643, 1.4226, 1.3982, 1.3282, 1.413, 1.3256, 1.3211, 1.2507, 1.0816, 1.0621, 1.3436, 1.1171, 0.8893, 1.2182, 0.9373, 0.4308, 0.6089, 1.8551, 1.8551, 1.8551, 1.8551, 1.8551, 1.8551, 1.8551, 1.8551, 1.8551, 1.8551, 1.8551, 1.8551, 1.8551, 1.8551, 1.8551, 1.8551, 1.8551, 1.8551, 1.8551, 1.8551, 1.8551, 1.8551, 1.8551, 1.8551, 1.8551, 1.8551, 1.8551, 1.8551, 1.8551, 1.8551, 1.855, 1.8551, 1.8551, 1.8551, 1.8551, 1.8551, 1.8551, 1.8551, 1.8551, 1.8548, 1.8551, 1.8455, 1.8551, 1.8551, 1.8551, 1.8551, 1.8551, 1.8551, 1.8551, 1.8551, 1.8551, 1.8551, 1.8551, 1.8551, 1.8551, 1.8551, 1.8551, 1.8551, 1.8551, 1.8551, 1.8219, 1.7604, 1.7183, 1.7479, 1.703, 1.7118, 1.7484, 1.6337, 1.6029, 1.7898, 1.4109, 1.4951, 1.5613, 1.6903, 1.6436, 1.4076, 1.3304, 1.4227, 1.4789, 1.4839, 1.0588, 1.2292, 1.2458, 0.7634, 1.0374, 0.9426, 0.6592, 1.0411, 1.103, 1.8751, 1.8751, 1.8751, 1.8751, 1.8751, 1.8751, 1.8751, 1.8751, 1.8751, 1.8751, 1.8751, 1.8751, 1.8751, 1.8751, 1.8751, 1.8751, 1.8751, 1.8751, 1.8751, 1.8751, 1.8751, 1.8751, 1.8751, 1.8751, 1.8751, 1.8751, 1.8751, 1.8751, 1.8751, 1.8751, 1.8751, 1.8751, 1.8751, 1.8751, 1.8751, 1.8751, 1.8751, 1.8751, 1.8751, 1.8751, 1.8751, 1.8751, 1.8751, 1.8751, 1.8751, 1.8751, 1.8751, 1.8751, 1.8751, 1.8742, 1.8751, 1.8751, 1.8751, 1.8751, 1.8751, 1.8751, 1.8751, 1.8751, 1.8751, 1.8751, 1.7589, 1.8162, 1.8013, 1.5258, 1.6733, 1.6601, 1.3547, 1.7177, 1.398, 1.5121, 1.2888, 1.451, 1.408, 1.3538, 0.8517, 1.159, 0.8063, 0.9302, 1.2777, 0.2041, 0.7017, 0.7698, 1.1259, 0.5792, 1.8177, 1.8177, 1.8177, 1.8177, 1.8177, 1.8177, 1.8177, 1.8177, 1.8177, 1.8177, 1.8177, 1.8177, 1.8177, 1.8177, 1.8177, 1.8177, 1.8177, 1.8177, 1.8177, 1.8177, 1.8177, 1.8177, 1.8177, 1.8177, 1.8177, 1.8177, 1.8177, 1.8177, 1.8177, 1.8177, 1.8177, 1.8177, 1.8177, 1.8177, 1.8177, 1.8177, 1.8177, 1.8177, 1.8177, 1.8177, 1.8177, 1.8177, 1.8177, 1.8177, 1.8177, 1.8177, 1.8177, 1.8177, 1.8177, 1.8177, 1.8174, 1.8177, 1.8177, 1.8177, 1.8177, 1.8173, 1.8177, 1.8177, 1.8177, 1.802, 1.7268, 1.7001, 1.6317, 1.7792, 1.7161, 1.5892, 1.5523, 1.4918, 1.4855, 1.5706, 1.3043, 1.4875, 1.283, 1.4513, 1.5766, 0.8872, 1.011, 0.9562, 0.1777, 0.8159, 0.5922, 1.022, 1.6228, 1.6228, 1.6228, 1.6228, 1.6228, 1.6228, 1.6228, 1.6228, 1.6228, 1.6228, 1.6228, 1.6228, 1.6228, 1.6228, 1.6228, 1.6228, 1.6228, 1.6228, 1.6228, 1.6228, 1.6228, 1.6228, 1.6228, 1.6228, 1.6228, 1.6228, 1.6228, 1.6228, 1.6228, 1.6228, 1.6228, 1.6162, 1.6228, 1.6226, 1.6228, 1.6228, 1.6227, 1.6228, 1.6228, 1.6228, 1.6228, 1.6228, 1.6228, 1.6228, 1.6228, 1.6228, 1.6228, 1.6228, 1.6228, 1.6205, 1.6228, 1.6075, 1.6228, 1.6228, 1.6228, 1.6228, 1.6228, 1.6228, 1.6228, 1.6095, 1.5748, 1.5677, 1.5952, 1.5086, 1.5225, 1.5726, 1.5125, 1.4145, 1.4602, 1.5016, 1.4681, 1.3193, 1.3886, 1.3956, 1.3821, 1.3898, 1.3886, 1.3417, 1.5079, 1.1927, 1.3111, 1.1563, 1.0116, 0.9286, 0.7307, 1.0872, 0.7795, 0.9314, 0.0375, 1.8305, 1.8305, 1.8305, 1.8305, 1.8305, 1.8305, 1.8305, 1.8305, 1.8305, 1.8305, 1.8305, 1.8305, 1.8305, 1.8305, 1.8305, 1.8305, 1.8305, 1.8305, 1.8305, 1.8305, 1.8305, 1.8305, 1.8305, 1.8305, 1.8305, 1.8305, 1.8305, 1.8305, 1.8305, 1.8305, 1.8305, 1.8305, 1.8305, 1.8305, 1.8305, 1.8305, 1.8305, 1.8301, 1.8305, 1.8305, 1.8305, 1.8305, 1.8305, 1.8305, 1.8305, 1.8305, 1.8305, 1.8305, 1.8305, 1.83, 1.8305, 1.8305, 1.8305, 1.8305, 1.8298, 1.8305, 1.8305, 1.8305, 1.8305, 1.8305, 1.8074, 1.7766, 1.8144, 1.6607, 1.7296, 1.6557, 1.6868, 1.6372, 1.7811, 1.4886, 1.6376, 1.7456, 1.5103, 1.5502, 1.4256, 1.421, 1.5581, 1.2676, 1.4486, 1.1464, 1.0177, 1.2987, 1.2446, 0.8713, 0.6394, 0.7431, 0.8367, 0.587, 0.4761, 0.4823, 0.4049, 0.8526, 0.3608]}, \"token.table\": {\"Topic\": [4, 4, 5, 6, 6, 4, 3, 5, 6, 5, 2, 5, 6, 1, 4, 6, 1, 2, 4, 5, 6, 4, 6, 1, 4, 4, 2, 2, 3, 2, 1, 5, 5, 1, 5, 5, 3, 1, 4, 6, 3, 5, 6, 2, 2, 1, 2, 3, 5, 6, 6, 1, 3, 6, 2, 1, 1, 3, 3, 4, 5, 2, 5, 6, 1, 5, 2, 6, 6, 3, 5, 2, 5, 1, 2, 4, 5, 4, 4, 5, 2, 5, 5, 6, 4, 1, 3, 4, 5, 6, 3, 5, 6, 3, 5, 2, 5, 2, 1, 3, 4, 6, 6, 1, 2, 2, 2, 4, 5, 6, 3, 6, 1, 5, 6, 1, 2, 3, 5, 6, 5, 5, 5, 5, 5, 1, 1, 6, 1, 2, 6, 4, 6, 6, 4, 6, 1, 4, 6, 6, 3, 5, 5, 1, 3, 5, 4, 2, 1, 3, 4, 6, 3, 4, 5, 6, 2, 6, 1, 6, 2, 4, 6, 1, 2, 2, 3, 3, 6, 3, 6, 2, 2, 4, 5, 6, 4, 6, 3, 1, 5, 4, 4, 2, 4, 5, 2, 3, 6, 2, 3, 6, 2, 5, 3, 6, 6, 4, 4, 1, 2, 6, 5, 4, 2, 4, 1, 6, 5, 3, 5, 1, 3, 5, 4, 4, 1, 2, 2, 1, 1, 3, 6, 3, 5, 2, 1, 3, 4, 5, 1, 2, 3, 2, 3, 1, 3, 5, 1, 3, 4, 4, 1, 6, 5, 3, 1, 2, 4, 6, 3, 3, 2, 3, 5, 6, 1, 5, 4, 1, 4, 3, 3, 1, 2, 5, 6, 2, 3, 6, 1, 6, 4, 1, 1, 1, 5, 4, 1, 2, 4, 5, 6, 4, 3, 2, 1, 1, 2, 3, 5, 1, 2, 4, 5, 6, 3, 5, 3, 4, 1, 5, 2, 4, 1, 2, 6, 5, 2, 3, 4, 3, 4, 5, 1, 3, 4, 5, 3, 2, 1, 3, 3, 5, 3, 6, 6, 6, 5, 5, 3, 5, 1, 3, 4, 1, 6, 1, 2, 3, 4, 5, 1, 4, 5, 1, 3, 4, 5, 4, 6, 2, 3, 5, 6, 1, 5, 3, 6, 6, 3, 3, 2, 1, 3, 4, 5, 6, 2, 3, 5, 4, 1, 2, 4, 6, 6, 1, 1, 2, 5, 1, 4, 5, 5, 3, 4, 5, 6, 3, 4, 2, 2, 2, 2, 2, 2, 1, 3, 2, 6, 1, 2, 3, 4, 6, 2, 2, 6, 1, 3, 4, 6, 3, 4, 1, 2, 4, 4, 5, 5, 2, 3, 5, 1, 3, 4, 6, 1, 3, 5, 4, 4, 1, 2, 4, 5, 1, 2, 5, 1, 2, 5, 1, 5, 4, 4, 3, 4, 2, 4, 4, 6, 1, 1, 2, 5, 4, 1, 2, 3, 6, 1, 4, 6, 1, 2, 3, 6, 2, 3, 5, 1, 1, 3, 2, 4, 2, 3, 5, 6, 6, 3, 4, 2, 6, 1, 4, 3, 2, 3, 1, 2, 5, 4, 5, 6, 1, 1, 3, 1, 6, 1, 3, 3, 3, 3, 2, 4, 5, 2, 4, 2, 3, 4, 5, 6, 3, 4, 4, 1, 1, 4, 3, 1, 2, 3, 4, 5, 6, 5, 2, 4, 6, 2, 5, 2, 5, 3, 4, 6, 6, 1, 2, 5, 1, 4, 4, 1, 3, 5, 6, 3, 1, 6, 1, 3, 1, 5, 1, 5, 2, 4, 6, 2, 3, 4, 6, 1, 1, 2, 3, 5, 2, 3, 4, 5, 6, 3, 5, 6, 1, 1, 4, 5, 1, 4, 1, 5, 6, 1, 2, 3, 5, 6, 6, 2, 6, 3, 5, 1, 4, 5, 1, 1, 4, 1, 3, 5, 5, 6, 1, 6, 4, 1, 3, 5, 6, 6, 2, 3, 4, 5, 6, 6, 1, 4, 6, 1, 3, 3, 1, 3, 5, 4, 4, 5, 6, 5, 5, 1, 5, 4, 6, 1, 3, 4, 1, 2, 3, 5, 6, 1, 2, 4, 3, 5, 4, 6, 4, 6, 5, 4, 4, 4, 4, 3, 3, 5, 1, 2, 3, 4, 3, 5, 3, 3, 1, 2, 4, 6, 1, 3, 5, 2, 2, 3, 4, 5, 6, 1, 3, 4, 5, 6, 3, 1, 1, 5, 2, 5, 2, 5, 1, 1, 5, 2, 4, 1, 6, 3, 5, 2, 3, 4, 5, 3, 5, 2, 2, 1, 1, 2, 4, 6, 3, 4, 5, 1, 1, 4, 1, 3, 6, 2, 5, 1, 2, 5, 3, 6, 2, 3, 4, 5, 6, 3, 3, 5, 5, 3, 4, 6, 1, 3, 4, 2, 6, 1, 2, 3, 4, 5, 6, 1, 5, 5, 5, 3, 4, 5, 6, 1, 5, 6, 3, 5, 3, 4, 4, 3, 3, 5, 2, 1, 6, 1, 2, 5, 2, 5, 2, 3, 3, 2, 6, 3, 1, 3, 5, 6, 1, 1, 3, 3, 6, 3, 3, 3, 6, 4, 2, 4, 4, 4, 1, 2, 3, 5, 1, 2, 3, 4, 5, 1, 3, 2, 4, 4, 2, 6], \"Freq\": [1.0070766833652927, 0.9265105486960694, 0.9301553013084014, 1.0084336201327435, 0.9997682399382624, 1.0240379748746031, 0.20878578689535135, 0.7911738713352948, 1.0001285867032395, 0.9943039427779462, 0.9999314114071023, 0.2383272216946921, 0.7615842435972751, 0.059624015929654814, 0.115883667324094, 0.8246431294095206, 0.14928745711245578, 0.5348031977683406, 0.03837245667357539, 0.0633800002507888, 0.21418306606489387, 0.4304426863299977, 0.5695464952741438, 0.21432182736158056, 0.785793624093165, 0.9999705071523558, 0.9635361592845922, 0.9635361592845922, 1.1093114193645055, 0.9635361592845922, 0.9997886393789084, 0.0003288778419009567, 0.9301553013084014, 0.1045050827956337, 0.8955112725445667, 0.9965949656875728, 0.998380277428055, 0.9244736046888166, 1.0000726927633956, 0.936402647266119, 0.20790685109394214, 0.7920807369675389, 1.0002015089479865, 1.0000078378948443, 0.9999334729938316, 0.10769168278679746, 0.16419711634618592, 0.5502303792588599, 0.0004359987157360221, 0.1773642775614138, 1.0084336201327435, 0.9999979783884183, 1.0001988207384884, 1.0084336201327435, 1.0000292819942103, 0.9244736046888166, 1.008516659660527, 0.8874491354916044, 0.8874491354916044, 0.8302543303004585, 0.16974346823986866, 0.04904162681198458, 0.9510049796338951, 1.0084336201327435, 1.000689749197513, 0.9998528886240722, 0.8094036342701557, 0.19064169832128425, 1.0002651592921985, 0.053611174521376675, 0.9463872185236997, 0.9998960143519353, 0.9301553013084014, 0.9984314930639219, 0.8664505418959147, 0.1334931386617568, 0.9301553013084014, 0.9265105486960694, 0.9265105486960694, 1.0038309687387696, 0.999968666998089, 0.9999669931300594, 1.000003717124937, 1.0000044637334577, 1.0001168630159267, 0.021430336642319175, 0.12371675423782096, 0.09475683985630856, 0.09301924499341782, 0.6670047480349935, 0.18805814692469933, 0.8119387156743175, 0.936402647266119, 1.0142275834189765, 1.0002068975665401, 0.9096166147759659, 0.09034256269768856, 0.999900498793853, 0.2422271356957784, 0.05953432150025264, 0.3943618276436048, 0.30388354901878795, 0.9964284579883061, 0.9758332493937508, 0.9999568269544898, 0.9635361592845922, 0.037446598860086985, 0.9622484645012698, 0.0002582524059316344, 1.0084336201327435, 0.5563516635584477, 0.44363357558842764, 0.14332832619850155, 0.856693881163615, 1.0084336201327435, 7.61625911882916e-05, 0.9999386597110805, 1.0000348040230012, 0.0006335577753748392, 0.9991206117661214, 0.9965949656875728, 0.9997360389885629, 0.9999475595461094, 0.9998036158503242, 0.9999248772674358, 1.003392083137862, 0.000338416436745199, 0.9996821541453179, 0.7057630316236507, 0.1415364822686028, 0.15276840803376565, 0.9265105486960694, 0.9998736013501781, 1.000119561268602, 0.048264339839404376, 0.9520141033322513, 0.9244736046888166, 0.16038235282803068, 0.8395960092801662, 0.9998574181701563, 0.245121411611493, 0.7548909769908658, 0.9301553013084014, 0.492164037651915, 0.07752855613265666, 0.4302877984692886, 0.9999746362786954, 1.0036834992547836, 0.17365965114390175, 0.12191021931156204, 0.4463453507388334, 0.25812304541095665, 0.9428186138222606, 0.057152303600772086, 0.9998431270572212, 1.0001792599988384, 0.9635361592845924, 0.936402647266119, 0.9997094721830013, 1.0084336201327435, 0.15598065514239107, 0.000153222647487614, 0.8437971197142904, 0.9244736046888166, 1.0000608097395502, 1.0025984360123459, 0.999977908150997, 0.08143056176711617, 0.9184780480399051, 0.2895794279780096, 0.7104234134381079, 1.0036834992547836, 0.05197481526600047, 0.016601755874439354, 0.8498967069812419, 0.08154669291734558, 0.41242428605663933, 0.587525484007538, 0.8874491354916044, 0.9753867242103039, 0.024622401638317214, 1.0000479553160921, 1.0000638745445987, 0.999967122282315, 0.9265105486960694, 0.9999771401469093, 0.7454217092726015, 0.22715630964931233, 0.027464992480514847, 0.689976622838148, 0.29472893951649315, 0.015335147957736278, 1.0001165927290563, 0.9999169489065314, 0.9999500577384763, 1.0084336201327435, 1.0001035076243585, 0.9265105486960694, 0.9779833569569621, 0.9997585497221365, 0.999827540048607, 0.9999824033270994, 0.9999505042925815, 0.9265105486960694, 1.0237571692398793, 1.0001214622409413, 0.09586927670960259, 0.904076330667525, 0.9301553013084014, 0.8065132562029947, 0.1934314591035409, 0.3044442333953931, 0.6955273586073891, 0.9301553013084014, 1.000050282292585, 0.9999874208359291, 0.8843859012187164, 0.11564199206471384, 0.9635361592845922, 1.0000479788703245, 0.9996654098668435, 1.0000384723595552, 1.0000443026423234, 0.999982736630569, 1.0004014047926295, 1.0000161941613528, 0.4140555066451386, 0.34344422243308037, 0.09407528238190369, 0.14845912860733984, 0.09342021986420877, 0.7771154590759011, 0.12941259909271388, 1.0000612497828556, 1.004218758582605, 0.12031056101462113, 0.654382509198637, 0.22532831294027264, 0.7851882808929099, 0.06890337340792747, 0.14589347713543488, 0.9999642766087796, 1.0002937420517843, 0.9999572257956116, 0.9301553013084014, 0.9808648339644049, 0.1684542137969496, 0.24734868306250798, 0.42251630673661134, 0.16164557824777953, 1.0000601746166486, 1.00001001996385, 0.19636344225893082, 0.014391457494547047, 0.5008227208102373, 0.2883621668351834, 0.9605356347741966, 0.03960971689790501, 0.9265105486960694, 0.99916908359033, 0.00122447191616462, 0.9999790811915881, 1.000006833761434, 0.2905060409596181, 0.5437970223323266, 0.10750223546698431, 0.05821549628278552, 0.9635361592845922, 1.0000215943831219, 1.0001327648044813, 0.9244736046888167, 1.000052135962779, 0.9999578273049999, 1.0400328052749186, 1.000295056456773, 0.7951288827355231, 0.20486691674500432, 0.9999407314413856, 0.1788795065450201, 0.2487778011193347, 0.4512573770152524, 0.022848474785582402, 0.09823340968669803, 0.9265105486960694, 0.9983802774280549, 0.9635361592845922, 1.000408203248654, 0.29851322595728985, 0.4510209730800241, 0.15764590318262361, 0.0928505723388859, 0.28671223675280755, 0.07896825526005315, 0.2808055815413076, 0.09381471295382325, 0.25967997686594296, 0.2088036639191195, 0.7912118382618206, 0.11100145940627094, 0.8890128158085104, 0.9244736046888166, 0.9301553013084014, 0.6865204987153664, 0.31351248811787885, 0.7521332243629162, 0.24785622237888938, 1.0084336201327435, 1.0001112710446876, 0.8014296759440785, 0.031386172319214416, 0.1672125387351251, 0.015557744126558989, 0.9844594755639272, 0.9301553013084014, 0.5018378405864088, 0.3093259611055501, 0.18873713674593992, 0.00012176589467479994, 0.8874491354916044, 1.000053154683011, 0.9244736046888166, 0.8874491354916044, 0.8874491354916044, 0.9301553013084014, 0.9999778523169514, 0.936402647266119, 1.0084336201327435, 0.9999138276431427, 0.9999511625640095, 1.0001396263042455, 0.006596409380505113, 0.9934045940165578, 0.21799169368745577, 0.7051480806714225, 0.07684757686557785, 0.0004991450994108369, 0.9992884890204953, 1.0565412625015047, 0.04810010827303333, 0.3593554164152558, 0.04987308154726118, 0.5426611532673685, 0.27815318439884124, 0.7218495856014554, 1.0630346300667444, 0.6559280670414535, 0.09197793986374514, 0.19397427602354134, 0.0580966297771001, 0.7187115317099835, 0.28118183990421175, 0.3024650877795883, 0.594261081441643, 0.010445266968214692, 0.09285096244245132, 0.9861051783347378, 0.9301553013084014, 0.05243846927608851, 0.9475088931265647, 1.0000073553823083, 0.9999185035174671, 1.0000909593321758, 0.9635361592845922, 0.6989963883264716, 0.048476460796187365, 0.15280427994939208, 0.04011224770890458, 0.059628744912564424, 0.8987675996261248, 0.1012423412673016, 0.9301553013084014, 0.9265105486960694, 0.858804269813445, 0.031640157308916395, 0.09745609428948465, 0.012016645110355008, 1.0003231657635248, 1.000233346379816, 0.9119064522410251, 0.08152111948127093, 0.006561789382505877, 0.26177836404364396, 2.994833131719986e-05, 0.7381964186376594, 0.9999767275248673, 0.04164957224076852, 0.09583389946507886, 0.4793404258024426, 0.3832216455422833, 1.000009439726187, 0.9265105486960694, 1.0000897475950479, 0.9635361592845922, 0.9999632269641648, 0.9635361592845922, 0.9956540312607455, 0.9635361592845922, 0.9955869588956486, 0.8874491354916044, 0.9635361592845922, 1.0001166418223706, 0.1166278412607917, 0.6392538590705795, 0.08843722591604035, 0.09510167398808558, 0.06057983297489124, 1.0001414576435987, 0.9998817275719483, 1.0002482823069907, 0.5199818071334177, 0.262365249718003, 0.21763040973112013, 1.0001695188786157, 0.998380277428055, 1.0003851439409388, 0.06550145513832523, 0.13870230344762038, 0.7957549294937765, 0.990407827916488, 0.9301553013084014, 1.0003557014071487, 1.000010714210192, 0.8902828268010311, 0.1097143453325233, 0.7072105389441954, 0.17309269638102365, 0.11968091212470645, 0.9984534250970063, 0.303119119444108, 0.5936796313029611, 0.10322794871213346, 0.999932139347456, 0.9265105486960694, 0.19798689820914653, 0.697680200738287, 0.03571503482593704, 0.06863884135286656, 0.3128059406790115, 0.6413444762821955, 0.045813316419189995, 0.2781811405583992, 0.13655175934841893, 0.585256367424255, 1.0002238942824762, 0.9301553013084014, 0.9265105486960694, 0.9265105486960694, 0.8874491354916044, 0.9265105486960694, 0.9635361592845922, 0.9998168778236706, 0.9130722536661173, 0.08694278957684567, 0.9244736046888166, 0.9244736046888166, 0.9635361592845922, 0.9301553013084014, 1.0294561652178549, 0.0569463953887352, 0.028579308990123006, 0.6205388575776213, 0.29392828924247794, 1.0000436541184201, 0.7810155740485765, 0.2189284281004916, 0.7358335930259651, 0.00015574845867837126, 0.13503391367414788, 0.1289597237856914, 0.9635361592845924, 0.8543843748362415, 0.14571946415666814, 0.9999739025831363, 0.9262955781196639, 0.07377743240961288, 1.0001406196293967, 0.9265105486960694, 0.9999364141908992, 0.09519831708066806, 0.9045226236773551, 0.0002217782576136705, 1.0084336201327435, 0.998961359831026, 0.000864153425459365, 1.0000053382882892, 1.0084336201327435, 0.9775256825755366, 0.02202874777635012, 1.1093114193645055, 0.9998358539179354, 0.0002028887690580226, 0.2511962542783164, 0.44310712606164865, 0.3056902534897619, 0.9033554920663689, 0.09208887075969453, 0.004580750003483947, 0.9955869588956486, 0.9475898101733577, 0.052316389208637945, 1.000624642966314, 1.0084336201327435, 1.0169209651576985, 0.8874491354916044, 0.8874491354916044, 0.9999852386305399, 0.9999138876852408, 0.8589016727730708, 0.09353423851531428, 0.04763139866898962, 1.000047002589952, 0.9265105486960694, 0.9635361592845922, 0.17345804501992798, 0.7173088292763745, 0.022654218810792316, 0.08657948971253301, 0.9998004485197023, 0.9999956322834996, 1.0000838701991739, 1.0000361671169409, 0.9998010835893869, 0.9265105486960694, 0.8874491354916044, 0.9244736046888166, 0.12497488063718822, 0.049414754059474, 0.25151848362547086, 0.19800762120480586, 0.3760576080540217, 0.9301553013084014, 0.14272489805509597, 0.7668908725519314, 0.0903814481448206, 0.8983559369441038, 0.10158951494233547, 0.013258346745972111, 0.9866038716485453, 0.12591423748792596, 0.3694860411530942, 0.5045743578751131, 1.0084336201327435, 0.6521761946844733, 0.11618174390472492, 0.2316630703631516, 0.8740004143691914, 0.12591838474017164, 0.9999402891521683, 0.19051031254775494, 0.4727175166223597, 0.08997910854552615, 0.2467881549835022, 0.8874491354916044, 0.9345334300402518, 0.06549990300576608, 0.8411685402796818, 0.15881152797812823, 0.6421769013570607, 0.35779000375421494, 0.26782756146670905, 0.7321443543928515, 0.1243659446940612, 0.05147002523430829, 0.824238590147551, 0.5917745103759958, 0.04342363527384858, 0.027696657356373135, 0.3370833492209754, 0.9999506488573783, 0.9998524271892169, 0.11708943935659577, 0.4886354616363473, 0.3942392523830657, 0.08347399011477857, 0.1923348332151192, 0.11213927775741654, 0.49945691064144704, 0.11255958989293909, 0.21121376204496817, 0.6504454858318846, 0.13835002352147766, 0.9997046335523821, 0.9735961130784256, 0.026421605042424377, 0.9998518119806694, 0.9015853271071336, 0.0984371725252106, 1.0001152313648274, 1.0630346300667444, 0.936402647266119, 0.027396280933145754, 0.023617483563056683, 0.9289093677972523, 0.019973643241899368, 1.0000853989170622, 1.000036639317905, 0.1339285478030189, 0.866176939341418, 0.04688955610664629, 0.9531062063149809, 0.00016891417221958906, 5.6304724073196354e-05, 0.9997466806436744, 0.9244736046888166, 0.0003800285936661095, 0.9994752013418681, 0.6887978314122257, 0.16681769758509082, 0.14434589609001183, 0.9998497604246989, 0.00011832541543487562, 1.0125187098972752, 0.936402647266119, 0.9265105486960694, 0.3050674511417933, 0.3886977711066182, 0.2403154119455118, 0.06591163875208883, 1.0000416621288648, 0.9635361592845922, 0.06826303452585512, 0.16482245572870408, 0.0844095602567951, 0.6826303452585513, 1.0000572094359834, 0.07742350161628317, 0.6932452016934953, 0.22939444609638726, 0.9407539865033228, 0.059211605394217194, 1.0000036599929785, 0.4343931851478937, 0.33110062682920277, 0.23446846298133453, 1.0001353936363677, 0.9999793292506626, 0.9301553013084014, 1.0534529781743838, 0.9997550889353061, 1.0000655080959548, 0.8171591202662186, 0.18283170207568836, 0.33595561252635797, 0.6640077748984793, 0.6376660547946701, 0.2567001655793984, 0.10561502165911042, 0.11029469650856852, 0.06799529677230748, 0.1804148463050106, 0.40095482413553984, 0.24035546766024968, 0.9994309239879099, 0.9904410349298789, 0.009532315574673381, 0.9918549161376754, 0.9301553013084014, 0.2444440353533978, 0.7555869227884029, 0.9265105486960694, 0.9964284579883061, 0.9301553013084014, 0.9999589985354931, 0.9999225867075066, 0.9999756708403843, 1.0000138974884603, 1.0000664716629248, 0.0025181976080871286, 0.9976259524038508, 0.5943522747912733, 0.2773350006258983, 0.06796376690332598, 0.06034225087431537, 0.10797223351095463, 0.8920392852475526, 0.8874491354916044, 0.9918549161376754, 0.9244736046888166, 0.8481329252759446, 0.07573207246016153, 0.07622921954414508, 0.9993119441160064, 0.01515892645573821, 0.9848489838624841, 1.0000187435369294, 0.33565650134466085, 0.17713923361674272, 0.07047970708779892, 0.4097896607877911, 0.0069167301872777, 0.04772302598242423, 0.08869073778468795, 0.22590351720751803, 0.26752496909173273, 0.3701621619580424, 0.9999521762004336, 1.027192894098685, 0.5752921692957981, 0.42470146056776303, 0.9635361592845922, 1.0000557403920767, 0.9635361592845922, 0.9301553013084014, 0.9244736046888166, 1.0002501296633097, 0.9301553013084014, 0.8721934755209437, 0.12780231296339742, 0.022785155338220495, 0.9770953315783705, 0.11414280765081122, 0.8859073140726501, 0.09741403370910198, 0.00017808781299653013, 0.011041444405784868, 0.8915075918606299, 0.20327583068519592, 0.7967700400771979, 0.9635361592845922, 0.9961984019722057, 1.0001027382531764, 0.04654966770792443, 0.004523635419892343, 0.22282552536050346, 0.7259705230311099, 0.3990315028377819, 0.5858182923381916, 0.015160336666955154, 1.0005560597330825, 0.9244736046888166, 0.9265105486960694, 1.00022108260055, 1.0000296539189133, 0.936402647266119, 0.9368280699499747, 0.06325170764853542, 0.6405179754901081, 0.3496650717617118, 0.00982430534192883, 1.00001001996385, 1.0084336201327435, 0.44146478231923986, 0.06108176246638992, 0.367221756116998, 0.07148703507806776, 0.05871948435995495, 0.9997844690981366, 0.8874491354916044, 1.0001471853672512, 1.0038309687387696, 0.09693676149329625, 0.34637159899433906, 0.5565588696468765, 0.9244736046888166, 0.998380277428055, 0.9999758560034735, 0.9999691435857796, 1.000214555082986, 0.03900391558473325, 0.4713600609274713, 0.122433140426209, 0.22227714055237943, 0.03591673307706131, 0.10895495338051932, 0.02716946400562003, 0.9727674390456623, 1.0000695048369241, 1.0000171042799981, 0.07480191459908522, 0.29322350522841406, 0.40195343109208437, 0.23001588739218706, 0.8218647125294554, 0.17820967272810814, 1.0024310390605249, 0.8172703081461993, 0.18276793146908246, 1.0000933383769794, 0.9999488483945572, 0.9977805909034593, 0.9999204392420532, 0.21397227593000706, 0.7860435960785123, 0.9635361592845922, 0.9244736046888166, 1.0178289644196945, 0.9244736046888166, 0.9675010616305175, 0.03271100345809611, 0.648940860654441, 0.3510067751780911, 0.9635361592845922, 0.8874491354916044, 0.8874491354916044, 0.9635361592845922, 1.0084336201327435, 1.0142275834189765, 0.08380990591453104, 0.2736438233630327, 0.6271829650261305, 0.015375368220673676, 1.0002290806285945, 0.9999466500500416, 0.9999656313642126, 0.015733546111604952, 0.9838710835123631, 0.8874491354916044, 1.0001457597930912, 0.9999221148068352, 1.0084336201327435, 0.9999601676099205, 0.40154738913829363, 0.5984541019168174, 1.0001118539663179, 0.9999482511733616, 0.09226406098895788, 0.26035888455038547, 0.6268412383927912, 0.020492125133813606, 0.2516523453725911, 0.2746765648605569, 0.08003883310661924, 0.29357066662593917, 0.10002480507452359, 1.0001236654762728, 0.9918549161376754, 0.00033888938227152123, 0.9997236777009876, 0.9265105486960694, 0.9998796875198441, 0.9999794585805029], \"Term\": [\"4k\", \"5:1\", \"60m+\", \"aae\", \"abi\", \"absenteeism\", \"access\", \"access\", \"accident\", \"acm\", \"acquisition\", \"act\", \"act\", \"action\", \"action\", \"action\", \"add\", \"add\", \"add\", \"add\", \"add\", \"advice\", \"advice\", \"adviser\", \"adviser\", \"age\", \"agora\", \"aite\", \"albay\", \"allard\", \"allocation\", \"allocation\", \"alterative\", \"alternative\", \"alternative\", \"alterra\", \"alvarez\", \"amends\", \"annuity\", \"aop\", \"apple\", \"apple\", \"application\", \"appoint\", \"appointment\", \"area\", \"area\", \"area\", \"area\", \"area\", \"assembly\", \"asset\", \"atlantic\", \"awful\", \"axa\", \"b2\", \"b3\", \"batanes\", \"believ\", \"benefit\", \"benefit\", \"bermuda\", \"bermuda\", \"betting\", \"blackrock\", \"blue\", \"board\", \"board\", \"body\", \"bond\", \"bond\", \"broking\", \"buda\", \"buffet\", \"build\", \"build\", \"burgling\", \"busienss\", \"caley\", \"calypso\", \"capability\", \"capacity\", \"capital\", \"car\", \"care\", \"case\", \"case\", \"case\", \"case\", \"case\", \"catastrophe\", \"catastrophe\", \"cauterize\", \"cebu\", \"cede\", \"ceo\", \"ceo\", \"chairman\", \"change\", \"change\", \"change\", \"change\", \"chat\", \"cheong\", \"chief\", \"chille\", \"choice\", \"choice\", \"choice\", \"civil_liability_bill\", \"claim\", \"claim\", \"class\", \"class\", \"clearance\", \"client\", \"client\", \"climate\", \"code\", \"code\", \"cola\", \"collateral\", \"collateralised\", \"collateralize\", \"collateralized\", \"combine_operating_ratio_cor\", \"commission\", \"commission\", \"company\", \"company\", \"company\", \"compassionate\", \"compensation\", \"complaint\", \"conduct\", \"conduct\", \"congregate\", \"consumer\", \"consumer\", \"contact\", \"content\", \"content\", \"contessa\", \"continue\", \"continue\", \"continue\", \"contribution\", \"corbett\", \"cost\", \"cost\", \"cost\", \"cost\", \"country\", \"country\", \"coupon\", \"court\", \"cowens\", \"crooked\", \"currency\", \"custodial\", \"customer\", \"customer\", \"customer\", \"cutter\", \"cyber\", \"d&f\", \"damage\", \"data\", \"data\", \"datum\", \"datum\", \"davison\", \"deal\", \"deal\", \"deal\", \"deal\", \"decision\", \"decision\", \"deckchair\", \"decline\", \"decline\", \"deficit\", \"define\", \"delighted\", \"deller\", \"deploy\", \"develop\", \"develop\", \"develop\", \"development\", \"development\", \"development\", \"digital\", \"directory\", \"disaster\", \"disciplinary\", \"disclosure\", \"dissapointing\", \"dissuade\", \"dividend\", \"division\", \"document\", \"domicile\", \"downs\", \"draper\", \"drawdown\", \"driver\", \"driver\", \"dtc\", \"earthquake\", \"earthquake\", \"economic\", \"economic\", \"effluent\", \"employee\", \"employer\", \"environment\", \"environment\", \"epsilon\", \"equity\", \"esg\", \"estimate\", \"eu\", \"event\", \"everest\", \"executive\", \"expect\", \"expect\", \"expect\", \"expect\", \"experience\", \"experience\", \"experience\", \"expertise\", \"explosive\", \"exposure\", \"exposure\", \"exposure\", \"fall\", \"fall\", \"fall\", \"family\", \"favourable\", \"fca\", \"felicia\", \"felix\", \"financial\", \"financial\", \"financial\", \"financial\", \"financing\", \"fire\", \"firm\", \"firm\", \"firm\", \"firm\", \"fitch\", \"fitch\", \"flavin\", \"float\", \"float\", \"flood\", \"flooding\", \"focus\", \"focus\", \"focus\", \"focus\", \"folliard\", \"forecast\", \"framework\", \"fran\\u00e7ois\", \"fraud\", \"freedom\", \"fret\", \"ftse\", \"fund\", \"fund\", \"funding\", \"future\", \"future\", \"future\", \"future\", \"future\", \"gbs\", \"geological\", \"gethin\", \"gilt\", \"global\", \"global\", \"global\", \"global\", \"good\", \"good\", \"good\", \"good\", \"good\", \"google\", \"google\", \"government\", \"government\", \"grady\", \"grobler\", \"group\", \"group\", \"growth\", \"growth\", \"gun\", \"hannover\", \"head\", \"head\", \"head\", \"health\", \"health\", \"hecke\", \"high\", \"high\", \"high\", \"high\", \"higly\", \"hire\", \"hoarding\", \"homestead\", \"hospitalisation\", \"hunton\", \"hurricane\", \"hutchins\", \"iceberg\", \"identify\", \"ii\", \"il\", \"ils\", \"ils\", \"impact\", \"impact\", \"impact\", \"implementation\", \"implementation\", \"importer\", \"include\", \"include\", \"include\", \"include\", \"income\", \"income\", \"incorporated\", \"increase\", \"increase\", \"increase\", \"increase\", \"individual\", \"individual\", \"industry\", \"industry\", \"industry\", \"industry\", \"inexorable\", \"infomercial\", \"information\", \"information\", \"injury\", \"insure\", \"insured\", \"insurnace\", \"interest\", \"interest\", \"interest\", \"interest\", \"interest\", \"international\", \"international\", \"interweave\", \"intially\", \"invest\", \"invest\", \"invest\", \"invest\", \"investigation\", \"investing\", \"investment\", \"investment\", \"investment\", \"investor\", \"investor\", \"investor\", \"issuance\", \"issue\", \"issue\", \"issue\", \"issue\", \"japan\", \"jess\", \"jlt\", \"jmd\", \"join\", \"kath\", \"kennedys\", \"kieron\", \"laden\", \"laguna\", \"laurie\", \"law\", \"lead\", \"lead\", \"lead\", \"lead\", \"lead\", \"leader\", \"leadership\", \"letter\", \"level\", \"level\", \"level\", \"levy\", \"leyte\", \"lgps\", \"life\", \"life\", \"life\", \"lingus\", \"liza\", \"lodestone\", \"london\", \"loss\", \"loss\", \"low\", \"low\", \"low\", \"ma\", \"major\", \"major\", \"major\", \"man\", \"managament\", \"manage\", \"manage\", \"manage\", \"manage\", \"management\", \"management\", \"management\", \"manager\", \"manager\", \"manager\", \"margin\", \"mattsson\", \"maurizio\", \"maximising\", \"maximizes\", \"mcmorrow\", \"mds\", \"medical\", \"member\", \"member\", \"metcalfe\", \"mh370\", \"mhg\", \"milion\", \"misdemeanour\", \"model\", \"model\", \"model\", \"model\", \"monetary\", \"money\", \"money\", \"month\", \"month\", \"month\", \"month\", \"msl\", \"natural\", \"natural\", \"negative\", \"net\", \"net\", \"network\", \"neumann\", \"newsletter\", \"note\", \"note\", \"note\", \"nuisance_call\", \"occur\", \"occur\", \"officer\", \"offline\", \"offset\", \"offset\", \"oita\", \"operation\", \"operation\", \"opportunity\", \"opportunity\", \"opportunity\", \"option\", \"option\", \"option\", \"outbound\", \"outlook\", \"outlook\", \"outperform\", \"overturn\", \"overwhelm\", \"p500\", \"pampanga\", \"pandemic\", \"parametric\", \"partner\", \"partner\", \"partner\", \"partnership\", \"pathfinder\", \"pawley\", \"pay\", \"pay\", \"pay\", \"pay\", \"payout\", \"pension\", \"pensioner\", \"performance\", \"performer\", \"pilates\", \"pinecrest\", \"pizer\", \"place\", \"place\", \"place\", \"place\", \"place\", \"placeholder\", \"plan\", \"plan\", \"plan\", \"platform\", \"platform\", \"player\", \"player\", \"policy\", \"policy\", \"policy\", \"polling\", \"portfolio\", \"portfolio\", \"portfolio\", \"positive\", \"positive\", \"pot\", \"potential\", \"potential\", \"potential\", \"potential\", \"potosi\", \"premium\", \"premium\", \"pressure\", \"pressure\", \"price\", \"price\", \"pricing\", \"pricing\", \"process\", \"process\", \"process\", \"product\", \"product\", \"product\", \"product\", \"profit\", \"profitability\", \"property\", \"property\", \"property\", \"provide\", \"provide\", \"provide\", \"provide\", \"provide\", \"provider\", \"provider\", \"provider\", \"qe\", \"quarter\", \"quarter\", \"quota\", \"rate\", \"rate\", \"ratio\", \"recapitalize\", \"redactor\", \"region\", \"region\", \"region\", \"region\", \"regulation\", \"regulator\", \"regulatory\", \"regulatory\", \"reinsurance\", \"reinsurance\", \"reinsurer\", \"reinsurer\", \"reinsurer\", \"rejuvenated\", \"relief\", \"relief\", \"remain\", \"remain\", \"remain\", \"renewal\", \"renewal\", \"renminbi\", \"reparative\", \"repetoire\", \"report\", \"report\", \"report\", \"report\", \"request\", \"requiem\", \"require\", \"require\", \"require\", \"require\", \"requirement\", \"research\", \"research\", \"research\", \"reserve\", \"reserve\", \"resilience\", \"result\", \"result\", \"result\", \"retire\", \"retirement\", \"retool\", \"retrieval\", \"retro\", \"retrocession\", \"return\", \"return\", \"review\", \"review\", \"rise\", \"rise\", \"rise\", \"risk\", \"risk\", \"risk\", \"risk\", \"risk\", \"roe\", \"role\", \"role\", \"rooftop\", \"rosenthal\", \"rule\", \"rule\", \"sahara\", \"salvage\", \"saucepan\", \"save\", \"saver\", \"saving\", \"scheme\", \"season\", \"secondary\", \"secondary\", \"sector\", \"sector\", \"sector\", \"sector\", \"security\", \"security\", \"securtie\", \"seep\", \"selden\", \"senior\", \"senior\", \"senior\", \"sentiment\", \"series\", \"series\", \"serve\", \"service\", \"service\", \"service\", \"service\", \"service\", \"set\", \"set\", \"set\", \"set\", \"set\", \"severe\", \"shale\", \"share\", \"share\", \"shulman\", \"sidecar\", \"signicantly\", \"silvestris\", \"snapback\", \"soft\", \"sold\", \"solution\", \"solution\", \"solvency\", \"solvency\", \"source\", \"source\", \"space\", \"space\", \"space\", \"space\", \"spotify\", \"spotify\", \"squared\", \"ssl\", \"stable\", \"standard\", \"standard\", \"standard\", \"standard\", \"state\", \"state\", \"state\", \"sterling\", \"stiefel\", \"stink\", \"stock\", \"storm\", \"stott\", \"strategic\", \"strategic\", \"strategy\", \"strategy\", \"strategy\", \"strike\", \"subtle\", \"support\", \"support\", \"support\", \"support\", \"support\", \"surge\", \"surigao\", \"swap\", \"syndication\", \"system\", \"system\", \"system\", \"taku\", \"tala\", \"tax\", \"team\", \"telematic\", \"today\", \"today\", \"today\", \"today\", \"today\", \"today\", \"traditional\", \"traditional\", \"tranche\", \"transaction\", \"transfer\", \"transfer\", \"transfer\", \"transfer\", \"trend\", \"trend\", \"tribunal\", \"trigger\", \"trigger\", \"tropical\", \"trustee\", \"tug\", \"typhoon\", \"typical\", \"typical\", \"unbeatable\", \"unconditionally\", \"undeniable\", \"underwhelme\", \"underwriter\", \"underwriter\", \"underwriting\", \"underwriting\", \"unflinchingly\", \"unfurnished\", \"unprecendented\", \"upscaling\", \"validity\", \"vegetable\", \"view\", \"view\", \"view\", \"view\", \"volatile\", \"volatility\", \"weather\", \"website\", \"website\", \"westhoff\", \"wildfire\", \"wind\", \"windscreen\", \"woman\", \"work\", \"work\", \"worker\", \"workplace\", \"world\", \"world\", \"world\", \"world\", \"year\", \"year\", \"year\", \"year\", \"year\", \"yield\", \"yong\", \"young\", \"young\", \"zain\", \"zurich\", \"\\u201dthe\"]}, \"R\": 30, \"lambda.step\": 0.01, \"plot.opts\": {\"xlab\": \"PC1\", \"ylab\": \"PC2\"}, \"topic.order\": [1, 2, 3, 4, 5, 6]};\n",
       "\n",
       "function LDAvis_load_lib(url, callback){\n",
       "  var s = document.createElement('script');\n",
       "  s.src = url;\n",
       "  s.async = true;\n",
       "  s.onreadystatechange = s.onload = callback;\n",
       "  s.onerror = function(){console.warn(\"failed to load library \" + url);};\n",
       "  document.getElementsByTagName(\"head\")[0].appendChild(s);\n",
       "}\n",
       "\n",
       "if(typeof(LDAvis) !== \"undefined\"){\n",
       "   // already loaded: just create the visualization\n",
       "   !function(LDAvis){\n",
       "       new LDAvis(\"#\" + \"ldavis_el8011135312764962091096676\", ldavis_el8011135312764962091096676_data);\n",
       "   }(LDAvis);\n",
       "}else if(typeof define === \"function\" && define.amd){\n",
       "   // require.js is available: use it to load d3/LDAvis\n",
       "   require.config({paths: {d3: \"https://cdnjs.cloudflare.com/ajax/libs/d3/3.5.5/d3.min\"}});\n",
       "   require([\"d3\"], function(d3){\n",
       "      window.d3 = d3;\n",
       "      LDAvis_load_lib(\"https://cdn.rawgit.com/bmabey/pyLDAvis/files/ldavis.v1.0.0.js\", function(){\n",
       "        new LDAvis(\"#\" + \"ldavis_el8011135312764962091096676\", ldavis_el8011135312764962091096676_data);\n",
       "      });\n",
       "    });\n",
       "}else{\n",
       "    // require.js not available: dynamically load d3 & LDAvis\n",
       "    LDAvis_load_lib(\"https://cdnjs.cloudflare.com/ajax/libs/d3/3.5.5/d3.min.js\", function(){\n",
       "         LDAvis_load_lib(\"https://cdn.rawgit.com/bmabey/pyLDAvis/files/ldavis.v1.0.0.js\", function(){\n",
       "                 new LDAvis(\"#\" + \"ldavis_el8011135312764962091096676\", ldavis_el8011135312764962091096676_data);\n",
       "            })\n",
       "         });\n",
       "}\n",
       "</script>"
      ],
      "text/plain": [
       "PreparedData(topic_coordinates=              x         y  topics  cluster       Freq\n",
       "topic                                                \n",
       "0     -0.078544  0.053758       1        1  17.015190\n",
       "1      0.103666 -0.347173       2        1  15.644274\n",
       "2     -0.180678  0.117123       3        1  15.333826\n",
       "3      0.203921  0.147999       4        1  16.239677\n",
       "4     -0.257666 -0.054120       5        1  19.733773\n",
       "5      0.209301  0.082412       6        1  16.033260, topic_info=              Term          Freq         Total Category  logprob  loglift\n",
       "11465  reinsurance  92131.000000  92131.000000  Default  30.0000  30.0000\n",
       "484        pension  70844.000000  70844.000000  Default  29.0000  29.0000\n",
       "16549          ils  68218.000000  68218.000000  Default  28.0000  28.0000\n",
       "25         capital  64539.000000  64539.000000  Default  27.0000  27.0000\n",
       "380           bond  65005.000000  65005.000000  Default  26.0000  26.0000\n",
       "...            ...           ...           ...      ...      ...      ...\n",
       "41            cost   4962.608781  19227.264238   Topic6  -5.5712   0.4761\n",
       "527           good   4880.379197  18792.361502   Topic6  -5.5879   0.4823\n",
       "355           risk   4864.360447  20236.693791   Topic6  -5.5912   0.4049\n",
       "109          place   4315.451277  11474.305818   Topic6  -5.7110   0.8526\n",
       "457       transfer   4304.772110  18716.098478   Topic6  -5.7134   0.3608\n",
       "\n",
       "[565 rows x 6 columns], token_table=       Topic      Freq    Term\n",
       "term                          \n",
       "17422      4  1.007077      4k\n",
       "17766      4  0.926511     5:1\n",
       "27005      5  0.930155    60m+\n",
       "35292      6  1.008434     aae\n",
       "1294       6  0.999768     abi\n",
       "...      ...       ...     ...\n",
       "631        2  0.000339   young\n",
       "631        4  0.999724   young\n",
       "17765      4  0.926511    zain\n",
       "1133       2  0.999880  zurich\n",
       "675        6  0.999979    ”the\n",
       "\n",
       "[831 rows x 3 columns], R=30, lambda_step=0.01, plot_opts={'xlab': 'PC1', 'ylab': 'PC2'}, topic_order=[1, 2, 3, 4, 5, 6])"
      ]
     },
     "execution_count": 14,
     "metadata": {},
     "output_type": "execute_result"
    }
   ],
   "source": [
    "# ignore warnings coming from pyLDAvis\n",
    "import warnings\n",
    "warnings.filterwarnings('ignore')\n",
    "\n",
    "# visualizing the outcome of the retained model -- this takes time\n",
    "pyLDAvis.enable_notebook()\n",
    "DATA_VIS = pyLDAvis.gensim.prepare(LDA_MALLET_G, CORPUS, DICT, sort_topics=False)\n",
    "DATA_VIS"
   ]
  },
  {
   "cell_type": "code",
   "execution_count": 15,
   "metadata": {
    "ExecuteTime": {
     "end_time": "2020-07-02T19:36:16.045827Z",
     "start_time": "2020-07-02T19:36:16.020114Z"
    }
   },
   "outputs": [],
   "source": [
    "# save pyLDAvis data to json file\n",
    "pyLDAvis.save_json(DATA_VIS, 'vis\\\\vis_all_6.json')\n",
    "# save pyLDAvis data to html file\n",
    "pyLDAvis.save_html(DATA_VIS, 'vis\\\\vis_all_6.html')"
   ]
  },
  {
   "cell_type": "markdown",
   "metadata": {},
   "source": [
    "### Get term-to-topic probabilities"
   ]
  },
  {
   "cell_type": "code",
   "execution_count": 16,
   "metadata": {
    "ExecuteTime": {
     "end_time": "2020-06-23T07:33:18.550610Z",
     "start_time": "2020-06-23T07:33:18.540567Z"
    },
    "code_folding": []
   },
   "outputs": [],
   "source": [
    "# get top 10 terms per topic\n",
    "TOP_TERMS_LINE = LDA_MALLET_G.show_topics(num_topics=N_TOPICS, num_words=10)"
   ]
  },
  {
   "cell_type": "code",
   "execution_count": 17,
   "metadata": {
    "ExecuteTime": {
     "end_time": "2020-06-23T07:39:35.070205Z",
     "start_time": "2020-06-23T07:39:35.034185Z"
    },
    "code_folding": []
   },
   "outputs": [],
   "source": [
    "# rearrange data on top 10 terms per topic\n",
    "TOP_TERMS_M = []\n",
    "\n",
    "for i in TOP_TERMS_LINE:\n",
    "    topic_num = i[0]\n",
    "    prob_terms = i[1].split('+')\n",
    "    for term_sort, term in enumerate(prob_terms):\n",
    "        weight = float(term.split('*')[0])\n",
    "        term = term.split('*')[1].strip('\"| ')\n",
    "        TOP_TERMS_M.append([topic_num, term_sort, weight, term])\n",
    "\n",
    "DF = pd.DataFrame(TOP_TERMS_M)\n",
    "\n",
    "# rename columns\n",
    "OLD_NAMES = [0, 1, 2, 3]\n",
    "NEW_NAMES = ['topic_n', 'term_sort', 'weight', 'term']\n",
    "COLS = dict(zip(OLD_NAMES, NEW_NAMES))\n",
    "DF.rename(columns=COLS, inplace=True)\n",
    "DF.set_index(['term_sort', 'topic_n'], inplace=True)\n",
    "DF = DF.unstack()\n",
    "\n",
    "# sidewaystable\n",
    "DF_H = pd.DataFrame()\n",
    "\n",
    "for i in range(6):\n",
    "    terms = DF['term'][i]\n",
    "    weights = DF['weight'][i]\n",
    "    weights = pd.Series(['( %s )' % j for j in weights ])\n",
    "    DF_H = pd.concat([DF_H, terms, weights], axis=1)\n",
    "\n",
    "\n",
    "# write data to file\n",
    "# CWD = CWD\n",
    "# FOLDER = 'exhibits'\n",
    "# FILE = '_1.tex'\n",
    "# DF_H.T.to_latex(os.path.join(CWD, FOLDER, FILE), index=True)"
   ]
  },
  {
   "cell_type": "code",
   "execution_count": 18,
   "metadata": {},
   "outputs": [
    {
     "data": {
      "text/html": [
       "<div>\n",
       "<style scoped>\n",
       "    .dataframe tbody tr th:only-of-type {\n",
       "        vertical-align: middle;\n",
       "    }\n",
       "\n",
       "    .dataframe tbody tr th {\n",
       "        vertical-align: top;\n",
       "    }\n",
       "\n",
       "    .dataframe thead th {\n",
       "        text-align: right;\n",
       "    }\n",
       "</style>\n",
       "<table border=\"1\" class=\"dataframe\">\n",
       "  <thead>\n",
       "    <tr style=\"text-align: right;\">\n",
       "      <th></th>\n",
       "      <th>0</th>\n",
       "      <th>0</th>\n",
       "      <th>1</th>\n",
       "      <th>0</th>\n",
       "      <th>2</th>\n",
       "      <th>0</th>\n",
       "      <th>3</th>\n",
       "      <th>0</th>\n",
       "      <th>4</th>\n",
       "      <th>0</th>\n",
       "      <th>5</th>\n",
       "      <th>0</th>\n",
       "    </tr>\n",
       "  </thead>\n",
       "  <tbody>\n",
       "    <tr>\n",
       "      <th>0</th>\n",
       "      <td>investment</td>\n",
       "      <td>( 0.029 )</td>\n",
       "      <td>management</td>\n",
       "      <td>( 0.012 )</td>\n",
       "      <td>loss</td>\n",
       "      <td>( 0.04 )</td>\n",
       "      <td>pension</td>\n",
       "      <td>( 0.054 )</td>\n",
       "      <td>reinsurance</td>\n",
       "      <td>( 0.055 )</td>\n",
       "      <td>datum</td>\n",
       "      <td>( 0.009 )</td>\n",
       "    </tr>\n",
       "    <tr>\n",
       "      <th>1</th>\n",
       "      <td>fund</td>\n",
       "      <td>( 0.028 )</td>\n",
       "      <td>client</td>\n",
       "      <td>( 0.01 )</td>\n",
       "      <td>event</td>\n",
       "      <td>( 0.017 )</td>\n",
       "      <td>scheme</td>\n",
       "      <td>( 0.023 )</td>\n",
       "      <td>ils</td>\n",
       "      <td>( 0.042 )</td>\n",
       "      <td>customer</td>\n",
       "      <td>( 0.008 )</td>\n",
       "    </tr>\n",
       "    <tr>\n",
       "      <th>2</th>\n",
       "      <td>asset</td>\n",
       "      <td>( 0.02 )</td>\n",
       "      <td>solution</td>\n",
       "      <td>( 0.01 )</td>\n",
       "      <td>hurricane</td>\n",
       "      <td>( 0.013 )</td>\n",
       "      <td>benefit</td>\n",
       "      <td>( 0.014 )</td>\n",
       "      <td>capital</td>\n",
       "      <td>( 0.04 )</td>\n",
       "      <td>fca</td>\n",
       "      <td>( 0.008 )</td>\n",
       "    </tr>\n",
       "    <tr>\n",
       "      <th>3</th>\n",
       "      <td>increase</td>\n",
       "      <td>( 0.019 )</td>\n",
       "      <td>role</td>\n",
       "      <td>( 0.009 )</td>\n",
       "      <td>impact</td>\n",
       "      <td>( 0.013 )</td>\n",
       "      <td>retirement</td>\n",
       "      <td>( 0.014 )</td>\n",
       "      <td>bond</td>\n",
       "      <td>( 0.038 )</td>\n",
       "      <td>information</td>\n",
       "      <td>( 0.006 )</td>\n",
       "    </tr>\n",
       "    <tr>\n",
       "      <th>4</th>\n",
       "      <td>rate</td>\n",
       "      <td>( 0.017 )</td>\n",
       "      <td>product</td>\n",
       "      <td>( 0.009 )</td>\n",
       "      <td>industry</td>\n",
       "      <td>( 0.013 )</td>\n",
       "      <td>member</td>\n",
       "      <td>( 0.012 )</td>\n",
       "      <td>catastrophe</td>\n",
       "      <td>( 0.028 )</td>\n",
       "      <td>change</td>\n",
       "      <td>( 0.006 )</td>\n",
       "    </tr>\n",
       "    <tr>\n",
       "      <th>5</th>\n",
       "      <td>return</td>\n",
       "      <td>( 0.013 )</td>\n",
       "      <td>manage</td>\n",
       "      <td>( 0.009 )</td>\n",
       "      <td>estimate</td>\n",
       "      <td>( 0.01 )</td>\n",
       "      <td>government</td>\n",
       "      <td>( 0.011 )</td>\n",
       "      <td>security</td>\n",
       "      <td>( 0.016 )</td>\n",
       "      <td>regulator</td>\n",
       "      <td>( 0.006 )</td>\n",
       "    </tr>\n",
       "    <tr>\n",
       "      <th>6</th>\n",
       "      <td>growth</td>\n",
       "      <td>( 0.011 )</td>\n",
       "      <td>head</td>\n",
       "      <td>( 0.008 )</td>\n",
       "      <td>storm</td>\n",
       "      <td>( 0.009 )</td>\n",
       "      <td>life</td>\n",
       "      <td>( 0.011 )</td>\n",
       "      <td>investor</td>\n",
       "      <td>( 0.015 )</td>\n",
       "      <td>consumer</td>\n",
       "      <td>( 0.006 )</td>\n",
       "    </tr>\n",
       "    <tr>\n",
       "      <th>7</th>\n",
       "      <td>low</td>\n",
       "      <td>( 0.009 )</td>\n",
       "      <td>team</td>\n",
       "      <td>( 0.008 )</td>\n",
       "      <td>include</td>\n",
       "      <td>( 0.009 )</td>\n",
       "      <td>employer</td>\n",
       "      <td>( 0.01 )</td>\n",
       "      <td>transaction</td>\n",
       "      <td>( 0.011 )</td>\n",
       "      <td>claim</td>\n",
       "      <td>( 0.006 )</td>\n",
       "    </tr>\n",
       "    <tr>\n",
       "      <th>8</th>\n",
       "      <td>high</td>\n",
       "      <td>( 0.009 )</td>\n",
       "      <td>global</td>\n",
       "      <td>( 0.008 )</td>\n",
       "      <td>catastrophe</td>\n",
       "      <td>( 0.008 )</td>\n",
       "      <td>income</td>\n",
       "      <td>( 0.009 )</td>\n",
       "      <td>deal</td>\n",
       "      <td>( 0.011 )</td>\n",
       "      <td>process</td>\n",
       "      <td>( 0.005 )</td>\n",
       "    </tr>\n",
       "    <tr>\n",
       "      <th>9</th>\n",
       "      <td>premium</td>\n",
       "      <td>( 0.009 )</td>\n",
       "      <td>experience</td>\n",
       "      <td>( 0.008 )</td>\n",
       "      <td>expect</td>\n",
       "      <td>( 0.008 )</td>\n",
       "      <td>plan</td>\n",
       "      <td>( 0.009 )</td>\n",
       "      <td>reinsurer</td>\n",
       "      <td>( 0.011 )</td>\n",
       "      <td>issue</td>\n",
       "      <td>( 0.005 )</td>\n",
       "    </tr>\n",
       "  </tbody>\n",
       "</table>\n",
       "</div>"
      ],
      "text/plain": [
       "            0          0           1          0            2          0  \\\n",
       "0  investment  ( 0.029 )  management  ( 0.012 )         loss   ( 0.04 )   \n",
       "1        fund  ( 0.028 )      client   ( 0.01 )        event  ( 0.017 )   \n",
       "2       asset   ( 0.02 )    solution   ( 0.01 )    hurricane  ( 0.013 )   \n",
       "3    increase  ( 0.019 )        role  ( 0.009 )       impact  ( 0.013 )   \n",
       "4        rate  ( 0.017 )     product  ( 0.009 )     industry  ( 0.013 )   \n",
       "5      return  ( 0.013 )      manage  ( 0.009 )     estimate   ( 0.01 )   \n",
       "6      growth  ( 0.011 )        head  ( 0.008 )        storm  ( 0.009 )   \n",
       "7         low  ( 0.009 )        team  ( 0.008 )      include  ( 0.009 )   \n",
       "8        high  ( 0.009 )      global  ( 0.008 )  catastrophe  ( 0.008 )   \n",
       "9     premium  ( 0.009 )  experience  ( 0.008 )       expect  ( 0.008 )   \n",
       "\n",
       "            3          0            4          0            5          0  \n",
       "0     pension  ( 0.054 )  reinsurance  ( 0.055 )        datum  ( 0.009 )  \n",
       "1      scheme  ( 0.023 )          ils  ( 0.042 )     customer  ( 0.008 )  \n",
       "2     benefit  ( 0.014 )      capital   ( 0.04 )          fca  ( 0.008 )  \n",
       "3  retirement  ( 0.014 )         bond  ( 0.038 )  information  ( 0.006 )  \n",
       "4      member  ( 0.012 )  catastrophe  ( 0.028 )       change  ( 0.006 )  \n",
       "5  government  ( 0.011 )     security  ( 0.016 )    regulator  ( 0.006 )  \n",
       "6        life  ( 0.011 )     investor  ( 0.015 )     consumer  ( 0.006 )  \n",
       "7    employer   ( 0.01 )  transaction  ( 0.011 )        claim  ( 0.006 )  \n",
       "8      income  ( 0.009 )         deal  ( 0.011 )      process  ( 0.005 )  \n",
       "9        plan  ( 0.009 )    reinsurer  ( 0.011 )        issue  ( 0.005 )  "
      ]
     },
     "execution_count": 18,
     "metadata": {},
     "output_type": "execute_result"
    }
   ],
   "source": [
    "DF_H"
   ]
  },
  {
   "cell_type": "markdown",
   "metadata": {},
   "source": [
    "### Get document-to-topic probabilities"
   ]
  },
  {
   "cell_type": "code",
   "execution_count": 39,
   "metadata": {
    "ExecuteTime": {
     "end_time": "2020-06-23T07:41:58.444229Z",
     "start_time": "2020-06-23T07:41:43.844128Z"
    },
    "code_folding": []
   },
   "outputs": [],
   "source": [
    "# get transformed corpus as per the LDA model\n",
    "TRANSF_CORPUS = LDA_MALLET_G.get_document_topics(CORPUS, minimum_probability=0.0)\n",
    "\n",
    "# rearrange data on document-topic pairs probabilities\n",
    "DOC_TOPIC_M = []\n",
    "\n",
    "for id, doc in enumerate(TRANSF_CORPUS):\n",
    "    for topic in np.arange(0, 6, 1):\n",
    "        topic_n = doc[topic][0]\n",
    "        topic_prob = doc[topic][1] \n",
    "        DOC_TOPIC_M.append([id, topic, topic_prob])\n",
    "\n",
    "DF = pd.DataFrame(DOC_TOPIC_M)\n",
    "\n",
    "# rename columns\n",
    "OLD_NAMES = [0, 1, 2]\n",
    "NEW_NAMES = ['doc_id', 'topic_n', 'prob']\n",
    "COLS = dict(zip(OLD_NAMES, NEW_NAMES))\n",
    "DF.rename(columns=COLS, inplace=True)\n",
    "\n",
    "# dominant topic\n",
    "GR = DF.groupby('doc_id')\n",
    "DF.loc[:, 'max'] = GR['prob'].transform(np.max)\n",
    "DF.loc[:, 'first_topic'] = 0\n",
    "DF.loc[DF['prob'] == DF['max'], 'first_topic'] = 1\n",
    "FIRST_TOPIC = DF.loc[DF['first_topic'] == 1]\n",
    "\n",
    "# arrange data as contingency table\n",
    "DF = DF.pivot_table(index='doc_id', columns='topic_n', values='prob', aggfunc=np.mean)\n",
    "\n",
    "# write data to file\n",
    "# CWD = CWD\n",
    "# FOLDER = 'transformed_data'\n",
    "# FILE = 'transformed_corpus.csv'\n",
    "# DF.to_csv(os.path.join(CWD, FOLDER, FILE), index=True)"
   ]
  },
  {
   "cell_type": "code",
   "execution_count": 222,
   "metadata": {
    "ExecuteTime": {
     "end_time": "2020-06-23T12:47:44.172648Z",
     "start_time": "2020-06-23T12:47:44.097840Z"
    },
    "scrolled": true
   },
   "outputs": [
    {
     "data": {
      "text/html": [
       "<div>\n",
       "<style scoped>\n",
       "    .dataframe tbody tr th:only-of-type {\n",
       "        vertical-align: middle;\n",
       "    }\n",
       "\n",
       "    .dataframe tbody tr th {\n",
       "        vertical-align: top;\n",
       "    }\n",
       "\n",
       "    .dataframe thead th {\n",
       "        text-align: right;\n",
       "    }\n",
       "</style>\n",
       "<table border=\"1\" class=\"dataframe\">\n",
       "  <thead>\n",
       "    <tr style=\"text-align: right;\">\n",
       "      <th>topic_n</th>\n",
       "      <th>0</th>\n",
       "      <th>1</th>\n",
       "      <th>2</th>\n",
       "      <th>3</th>\n",
       "      <th>4</th>\n",
       "      <th>5</th>\n",
       "      <th>max_topic</th>\n",
       "      <th>max_prob</th>\n",
       "      <th>year</th>\n",
       "    </tr>\n",
       "    <tr>\n",
       "      <th>doc_id</th>\n",
       "      <th></th>\n",
       "      <th></th>\n",
       "      <th></th>\n",
       "      <th></th>\n",
       "      <th></th>\n",
       "      <th></th>\n",
       "      <th></th>\n",
       "      <th></th>\n",
       "      <th></th>\n",
       "    </tr>\n",
       "  </thead>\n",
       "  <tbody>\n",
       "    <tr>\n",
       "      <th>0</th>\n",
       "      <td>0.082118</td>\n",
       "      <td>0.177814</td>\n",
       "      <td>0.071469</td>\n",
       "      <td>0.068224</td>\n",
       "      <td>0.389482</td>\n",
       "      <td>0.210893</td>\n",
       "      <td>4</td>\n",
       "      <td>0.389482</td>\n",
       "      <td>2020</td>\n",
       "    </tr>\n",
       "    <tr>\n",
       "      <th>1</th>\n",
       "      <td>0.145909</td>\n",
       "      <td>0.253894</td>\n",
       "      <td>0.157507</td>\n",
       "      <td>0.164980</td>\n",
       "      <td>0.134196</td>\n",
       "      <td>0.143515</td>\n",
       "      <td>1</td>\n",
       "      <td>0.253894</td>\n",
       "      <td>2020</td>\n",
       "    </tr>\n",
       "    <tr>\n",
       "      <th>2</th>\n",
       "      <td>0.088096</td>\n",
       "      <td>0.137194</td>\n",
       "      <td>0.103586</td>\n",
       "      <td>0.178662</td>\n",
       "      <td>0.266838</td>\n",
       "      <td>0.225624</td>\n",
       "      <td>4</td>\n",
       "      <td>0.266838</td>\n",
       "      <td>2020</td>\n",
       "    </tr>\n",
       "    <tr>\n",
       "      <th>3</th>\n",
       "      <td>0.058085</td>\n",
       "      <td>0.425874</td>\n",
       "      <td>0.120684</td>\n",
       "      <td>0.108159</td>\n",
       "      <td>0.108710</td>\n",
       "      <td>0.178488</td>\n",
       "      <td>1</td>\n",
       "      <td>0.425874</td>\n",
       "      <td>2020</td>\n",
       "    </tr>\n",
       "    <tr>\n",
       "      <th>4</th>\n",
       "      <td>0.100591</td>\n",
       "      <td>0.478743</td>\n",
       "      <td>0.127652</td>\n",
       "      <td>0.069577</td>\n",
       "      <td>0.108294</td>\n",
       "      <td>0.115143</td>\n",
       "      <td>1</td>\n",
       "      <td>0.478743</td>\n",
       "      <td>2020</td>\n",
       "    </tr>\n",
       "    <tr>\n",
       "      <th>...</th>\n",
       "      <td>...</td>\n",
       "      <td>...</td>\n",
       "      <td>...</td>\n",
       "      <td>...</td>\n",
       "      <td>...</td>\n",
       "      <td>...</td>\n",
       "      <td>...</td>\n",
       "      <td>...</td>\n",
       "      <td>...</td>\n",
       "    </tr>\n",
       "    <tr>\n",
       "      <th>38575</th>\n",
       "      <td>0.078584</td>\n",
       "      <td>0.126241</td>\n",
       "      <td>0.068605</td>\n",
       "      <td>0.161387</td>\n",
       "      <td>0.486643</td>\n",
       "      <td>0.078540</td>\n",
       "      <td>4</td>\n",
       "      <td>0.486643</td>\n",
       "      <td>2011</td>\n",
       "    </tr>\n",
       "    <tr>\n",
       "      <th>38576</th>\n",
       "      <td>0.061269</td>\n",
       "      <td>0.065748</td>\n",
       "      <td>0.078572</td>\n",
       "      <td>0.137718</td>\n",
       "      <td>0.591762</td>\n",
       "      <td>0.064930</td>\n",
       "      <td>4</td>\n",
       "      <td>0.591762</td>\n",
       "      <td>2011</td>\n",
       "    </tr>\n",
       "    <tr>\n",
       "      <th>38577</th>\n",
       "      <td>0.072364</td>\n",
       "      <td>0.284797</td>\n",
       "      <td>0.113294</td>\n",
       "      <td>0.291315</td>\n",
       "      <td>0.134455</td>\n",
       "      <td>0.103775</td>\n",
       "      <td>3</td>\n",
       "      <td>0.291315</td>\n",
       "      <td>2011</td>\n",
       "    </tr>\n",
       "    <tr>\n",
       "      <th>38578</th>\n",
       "      <td>0.088628</td>\n",
       "      <td>0.077858</td>\n",
       "      <td>0.061384</td>\n",
       "      <td>0.422487</td>\n",
       "      <td>0.265120</td>\n",
       "      <td>0.084523</td>\n",
       "      <td>3</td>\n",
       "      <td>0.422487</td>\n",
       "      <td>2011</td>\n",
       "    </tr>\n",
       "    <tr>\n",
       "      <th>38579</th>\n",
       "      <td>0.104497</td>\n",
       "      <td>0.079326</td>\n",
       "      <td>0.084326</td>\n",
       "      <td>0.113237</td>\n",
       "      <td>0.510887</td>\n",
       "      <td>0.107728</td>\n",
       "      <td>4</td>\n",
       "      <td>0.510887</td>\n",
       "      <td>2011</td>\n",
       "    </tr>\n",
       "  </tbody>\n",
       "</table>\n",
       "<p>38580 rows × 9 columns</p>\n",
       "</div>"
      ],
      "text/plain": [
       "topic_n         0         1         2         3         4         5  \\\n",
       "doc_id                                                                \n",
       "0        0.082118  0.177814  0.071469  0.068224  0.389482  0.210893   \n",
       "1        0.145909  0.253894  0.157507  0.164980  0.134196  0.143515   \n",
       "2        0.088096  0.137194  0.103586  0.178662  0.266838  0.225624   \n",
       "3        0.058085  0.425874  0.120684  0.108159  0.108710  0.178488   \n",
       "4        0.100591  0.478743  0.127652  0.069577  0.108294  0.115143   \n",
       "...           ...       ...       ...       ...       ...       ...   \n",
       "38575    0.078584  0.126241  0.068605  0.161387  0.486643  0.078540   \n",
       "38576    0.061269  0.065748  0.078572  0.137718  0.591762  0.064930   \n",
       "38577    0.072364  0.284797  0.113294  0.291315  0.134455  0.103775   \n",
       "38578    0.088628  0.077858  0.061384  0.422487  0.265120  0.084523   \n",
       "38579    0.104497  0.079326  0.084326  0.113237  0.510887  0.107728   \n",
       "\n",
       "topic_n  max_topic  max_prob  year  \n",
       "doc_id                              \n",
       "0                4  0.389482  2020  \n",
       "1                1  0.253894  2020  \n",
       "2                4  0.266838  2020  \n",
       "3                1  0.425874  2020  \n",
       "4                1  0.478743  2020  \n",
       "...            ...       ...   ...  \n",
       "38575            4  0.486643  2011  \n",
       "38576            4  0.591762  2011  \n",
       "38577            3  0.291315  2011  \n",
       "38578            3  0.422487  2011  \n",
       "38579            4  0.510887  2011  \n",
       "\n",
       "[38580 rows x 9 columns]"
      ]
     },
     "execution_count": 222,
     "metadata": {},
     "output_type": "execute_result"
    }
   ],
   "source": [
    "# dataframe\n",
    "DF_max = DF.copy()\n",
    "DF_max['max_topic'] = DF.idxmax(axis=1)\n",
    "DF_max['max_prob'] = DF.max(axis=1)\n",
    "DF_max['year'] = temp_year\n",
    "DF_max"
   ]
  },
  {
   "cell_type": "code",
   "execution_count": 230,
   "metadata": {
    "ExecuteTime": {
     "end_time": "2020-06-23T12:50:34.523345Z",
     "start_time": "2020-06-23T12:50:34.517329Z"
    }
   },
   "outputs": [
    {
     "data": {
      "text/plain": [
       "year\n",
       "2011       6\n",
       "2012    4209\n",
       "2013      34\n",
       "2014    2091\n",
       "2015    3177\n",
       "2016    5507\n",
       "2017    5791\n",
       "2018    6518\n",
       "2019    6811\n",
       "2020    4435\n",
       "dtype: int64"
      ]
     },
     "execution_count": 230,
     "metadata": {},
     "output_type": "execute_result"
    }
   ],
   "source": [
    "data = DF_max.groupby('year').size()\n",
    "data"
   ]
  },
  {
   "cell_type": "code",
   "execution_count": 226,
   "metadata": {
    "ExecuteTime": {
     "end_time": "2020-06-23T12:49:45.622736Z",
     "start_time": "2020-06-23T12:49:45.616577Z"
    },
    "code_folding": []
   },
   "outputs": [],
   "source": [
    "#\n",
    "DF_max.drop(labels=[17418], axis=0, inplace=True)"
   ]
  },
  {
   "cell_type": "code",
   "execution_count": 241,
   "metadata": {
    "ExecuteTime": {
     "end_time": "2020-06-23T12:56:30.954497Z",
     "start_time": "2020-06-23T12:56:30.947143Z"
    }
   },
   "outputs": [
    {
     "data": {
      "text/plain": [
       "year\n",
       "2011       6\n",
       "2012    4209\n",
       "2013      34\n",
       "2014    2091\n",
       "2015    3177\n",
       "2016    5507\n",
       "2017    5791\n",
       "2018    6518\n",
       "2019    6811\n",
       "2020    4435\n",
       "Name: max_topic, dtype: int64"
      ]
     },
     "execution_count": 241,
     "metadata": {},
     "output_type": "execute_result"
    }
   ],
   "source": [
    "year_count = DF_max.groupby(['max_topic'])['max_topic'].count()\n",
    "year_count"
   ]
  },
  {
   "cell_type": "code",
   "execution_count": 238,
   "metadata": {
    "ExecuteTime": {
     "end_time": "2020-06-23T12:54:10.698474Z",
     "start_time": "2020-06-23T12:54:10.693618Z"
    },
    "scrolled": true
   },
   "outputs": [],
   "source": [
    "trend = DF_max.groupby(['max_topic', 'year'])['max_topic'].count()"
   ]
  },
  {
   "cell_type": "code",
   "execution_count": 243,
   "metadata": {
    "ExecuteTime": {
     "end_time": "2020-06-23T13:15:56.354184Z",
     "start_time": "2020-06-23T13:15:56.344609Z"
    }
   },
   "outputs": [
    {
     "data": {
      "text/plain": [
       "max_topic  year\n",
       "0          2012     247\n",
       "           2013       1\n",
       "           2014      46\n",
       "           2015      56\n",
       "           2016     828\n",
       "           2017    1393\n",
       "           2018    1472\n",
       "           2019    1593\n",
       "           2020     783\n",
       "1          2012     941\n",
       "           2013       2\n",
       "           2014     324\n",
       "           2015     500\n",
       "           2016     845\n",
       "           2017     803\n",
       "           2018     771\n",
       "           2019     769\n",
       "           2020     631\n",
       "2          2012    1191\n",
       "           2014     592\n",
       "           2015     847\n",
       "           2016     931\n",
       "           2017     776\n",
       "           2018     741\n",
       "           2019     786\n",
       "           2020     789\n",
       "3          2011       2\n",
       "           2012     645\n",
       "           2013       6\n",
       "           2014     263\n",
       "           2015     505\n",
       "           2016     641\n",
       "           2017     622\n",
       "           2018     807\n",
       "           2019     972\n",
       "           2020     698\n",
       "4          2011       4\n",
       "           2012     578\n",
       "           2013      21\n",
       "           2014     613\n",
       "           2015     765\n",
       "           2016    1340\n",
       "           2017    1222\n",
       "           2018    1429\n",
       "           2019    1567\n",
       "           2020     627\n",
       "5          2012     607\n",
       "           2013       4\n",
       "           2014     253\n",
       "           2015     504\n",
       "           2016     922\n",
       "           2017     975\n",
       "           2018    1298\n",
       "           2019    1124\n",
       "           2020     907\n",
       "Name: max_topic, dtype: int64"
      ]
     },
     "execution_count": 243,
     "metadata": {},
     "output_type": "execute_result"
    }
   ],
   "source": [
    "trend"
   ]
  },
  {
   "cell_type": "code",
   "execution_count": null,
   "metadata": {},
   "outputs": [],
   "source": [
    "import matplotlib.pyplot as plt\n",
    "y = trend[0]\n",
    "plt.plot([1, 2, 3, 4])\n",
    "plt.ylabel('some numbers')\n",
    "plt.show()"
   ]
  },
  {
   "cell_type": "markdown",
   "metadata": {},
   "source": [
    "### Find the most representative docs for topic"
   ]
  },
  {
   "cell_type": "code",
   "execution_count": 227,
   "metadata": {
    "ExecuteTime": {
     "end_time": "2020-06-23T12:49:56.108355Z",
     "start_time": "2020-06-23T12:49:56.099379Z"
    }
   },
   "outputs": [
    {
     "data": {
      "text/plain": [
       "max_topic\n",
       "4    0.748783\n",
       "1    0.778964\n",
       "5    0.800352\n",
       "2    0.824285\n",
       "3    0.752873\n",
       "0    0.850589\n",
       "Name: max_prob, dtype: float64"
      ]
     },
     "execution_count": 227,
     "metadata": {},
     "output_type": "execute_result"
    }
   ],
   "source": [
    "DF_max.groupby(['max_topic'], sort=False)['max_prob'].max()"
   ]
  },
  {
   "cell_type": "code",
   "execution_count": 228,
   "metadata": {
    "ExecuteTime": {
     "end_time": "2020-06-23T12:50:07.266786Z",
     "start_time": "2020-06-23T12:50:07.259758Z"
    }
   },
   "outputs": [],
   "source": [
    "idx = DF_max.groupby(['max_topic'])['max_prob'].transform(max) == DF_max['max_prob']"
   ]
  },
  {
   "cell_type": "code",
   "execution_count": 229,
   "metadata": {
    "ExecuteTime": {
     "end_time": "2020-06-23T12:50:14.781239Z",
     "start_time": "2020-06-23T12:50:14.770370Z"
    }
   },
   "outputs": [
    {
     "data": {
      "text/html": [
       "<div>\n",
       "<style scoped>\n",
       "    .dataframe tbody tr th:only-of-type {\n",
       "        vertical-align: middle;\n",
       "    }\n",
       "\n",
       "    .dataframe tbody tr th {\n",
       "        vertical-align: top;\n",
       "    }\n",
       "\n",
       "    .dataframe thead th {\n",
       "        text-align: right;\n",
       "    }\n",
       "</style>\n",
       "<table border=\"1\" class=\"dataframe\">\n",
       "  <thead>\n",
       "    <tr style=\"text-align: right;\">\n",
       "      <th>topic_n</th>\n",
       "      <th>0</th>\n",
       "      <th>1</th>\n",
       "      <th>2</th>\n",
       "      <th>3</th>\n",
       "      <th>4</th>\n",
       "      <th>5</th>\n",
       "      <th>max_topic</th>\n",
       "      <th>max_prob</th>\n",
       "      <th>year</th>\n",
       "    </tr>\n",
       "    <tr>\n",
       "      <th>doc_id</th>\n",
       "      <th></th>\n",
       "      <th></th>\n",
       "      <th></th>\n",
       "      <th></th>\n",
       "      <th></th>\n",
       "      <th></th>\n",
       "      <th></th>\n",
       "      <th></th>\n",
       "      <th></th>\n",
       "    </tr>\n",
       "  </thead>\n",
       "  <tbody>\n",
       "    <tr>\n",
       "      <th>12186</th>\n",
       "      <td>0.850589</td>\n",
       "      <td>0.040496</td>\n",
       "      <td>0.017138</td>\n",
       "      <td>0.045424</td>\n",
       "      <td>0.020467</td>\n",
       "      <td>0.025886</td>\n",
       "      <td>0</td>\n",
       "      <td>0.850589</td>\n",
       "      <td>2019</td>\n",
       "    </tr>\n",
       "    <tr>\n",
       "      <th>23067</th>\n",
       "      <td>0.023493</td>\n",
       "      <td>0.056552</td>\n",
       "      <td>0.824285</td>\n",
       "      <td>0.036093</td>\n",
       "      <td>0.026237</td>\n",
       "      <td>0.033340</td>\n",
       "      <td>2</td>\n",
       "      <td>0.824285</td>\n",
       "      <td>2019</td>\n",
       "    </tr>\n",
       "    <tr>\n",
       "      <th>27953</th>\n",
       "      <td>0.039518</td>\n",
       "      <td>0.778964</td>\n",
       "      <td>0.048182</td>\n",
       "      <td>0.051496</td>\n",
       "      <td>0.034045</td>\n",
       "      <td>0.047795</td>\n",
       "      <td>1</td>\n",
       "      <td>0.778964</td>\n",
       "      <td>2015</td>\n",
       "    </tr>\n",
       "    <tr>\n",
       "      <th>32530</th>\n",
       "      <td>0.027637</td>\n",
       "      <td>0.049855</td>\n",
       "      <td>0.038334</td>\n",
       "      <td>0.035455</td>\n",
       "      <td>0.048367</td>\n",
       "      <td>0.800352</td>\n",
       "      <td>5</td>\n",
       "      <td>0.800352</td>\n",
       "      <td>2012</td>\n",
       "    </tr>\n",
       "    <tr>\n",
       "      <th>33745</th>\n",
       "      <td>0.051463</td>\n",
       "      <td>0.028402</td>\n",
       "      <td>0.035237</td>\n",
       "      <td>0.752873</td>\n",
       "      <td>0.071274</td>\n",
       "      <td>0.060751</td>\n",
       "      <td>3</td>\n",
       "      <td>0.752873</td>\n",
       "      <td>2012</td>\n",
       "    </tr>\n",
       "    <tr>\n",
       "      <th>38292</th>\n",
       "      <td>0.056197</td>\n",
       "      <td>0.044455</td>\n",
       "      <td>0.040825</td>\n",
       "      <td>0.058282</td>\n",
       "      <td>0.748783</td>\n",
       "      <td>0.051458</td>\n",
       "      <td>4</td>\n",
       "      <td>0.748783</td>\n",
       "      <td>2016</td>\n",
       "    </tr>\n",
       "  </tbody>\n",
       "</table>\n",
       "</div>"
      ],
      "text/plain": [
       "topic_n         0         1         2         3         4         5  \\\n",
       "doc_id                                                                \n",
       "12186    0.850589  0.040496  0.017138  0.045424  0.020467  0.025886   \n",
       "23067    0.023493  0.056552  0.824285  0.036093  0.026237  0.033340   \n",
       "27953    0.039518  0.778964  0.048182  0.051496  0.034045  0.047795   \n",
       "32530    0.027637  0.049855  0.038334  0.035455  0.048367  0.800352   \n",
       "33745    0.051463  0.028402  0.035237  0.752873  0.071274  0.060751   \n",
       "38292    0.056197  0.044455  0.040825  0.058282  0.748783  0.051458   \n",
       "\n",
       "topic_n  max_topic  max_prob  year  \n",
       "doc_id                              \n",
       "12186            0  0.850589  2019  \n",
       "23067            2  0.824285  2019  \n",
       "27953            1  0.778964  2015  \n",
       "32530            5  0.800352  2012  \n",
       "33745            3  0.752873  2012  \n",
       "38292            4  0.748783  2016  "
      ]
     },
     "execution_count": 229,
     "metadata": {},
     "output_type": "execute_result"
    }
   ],
   "source": [
    "DF_max[idx]"
   ]
  },
  {
   "cell_type": "code",
   "execution_count": 121,
   "metadata": {
    "ExecuteTime": {
     "end_time": "2020-06-23T11:12:58.861449Z",
     "start_time": "2020-06-23T11:12:58.777690Z"
    },
    "code_folding": [
     0
    ],
    "collapsed": true
   },
   "outputs": [
    {
     "name": "stdout",
     "output_type": "stream",
     "text": [
      "TITLE:\n",
      "AGCS enhances aviation capabilities; hires XL Catlin exec\n",
      "\n",
      "ABSTRACT:\n",
      "Allianz Global Corporate & Specialty (AGCS) has made three appointments to its global regional unit in its London (RUL) and North America teams to reinforce its aviation strategy.\n",
      "\n",
      "TEXT:\n",
      "Allianz Global Corporate & Specialty (AGCS) has made three appointments to its global regional unit in its London (RUL) and North America teams to reinforce its aviation strategy. Matthew Farrell has been appointed global aviation executive, based in London while Tom Fadden has been named regional head of aviation for the regional unit in London. Fadden also retains his current role as global airline product leader, part of the chief underwriting office. The third appointment sees Mike Hansen assuming the role of regional head of aviation for North America, based in Toronto. Hansen most recently served as deputy chief underwriting officer (CUO) at XL Catlin aerospace, where he worked closely with the global CUO to manage the global underwriting team, develop the strategic underwriting plan and lead the development of the combined reinsurance program. “Aviation continues to advance our global reach and these key appointments help further support our ability to offer a seamless, ‘one aviation’ offering to the aviation market across the globe,” said Henning Haagen, global head of aviation. “With these appointments, we have the combined expertise and experience in place to support the delivery of a high quality offering and further cement our position as a global leader in the aviation market.” Farrell will be responsible for developing leading business solutions and driving AGCS strategy externally with core brokers and clients across all regions globally. He will report directly to Haagen. Fadden will be responsible for leading the aviation business RUL and supporting the global ‘one aviation’ approach in addition to his role as global airline product leader, chief underwriting officer (CUO). He will report to Carsten Scheffel, chief regions and markets officer, and member of the board of management; and Brian Kirwan AGCS UK chief executive officer (CEO), with a matrix reporting line to Haagen. Hansen will be responsible for leading the aviation business in North America and developing and executing on the regional strategy and supporting the global ‘one aviation’ approach. He will report to John Barnwell, regional head specialty lines with a matrix reporting line to Haagen. Scheffel said: \"Congratulations to Tom and Matthew on their new roles as we globally strengthen our aviation team. “Our aim is to ensure we are best organised for the company’s future prosperity. The fact that Tom and Matthew have been appointed from within the team demonstrates the depth of underwriting and leadership talent we have here in AGCS.\" Barnwell added: “We are pleased to welcome someone of Mike’s calibre to Allianz and to the North America aviation team. “His significant experience in the aviation insurance industry and expertise will be of great benefit to this critical role for our region as well as globally.”\n"
     ]
    }
   ],
   "source": [
    "# most representative docs for topic 4\n",
    "df4 = pd.read_csv('data\\\\intelligent_insurer.csv')\n",
    "print('TITLE:')\n",
    "print(df4.title[3171])\n",
    "print('')\n",
    "print('ABSTRACT:')\n",
    "print(df4.abstract[3171])\n",
    "print('')\n",
    "print('TEXT:')\n",
    "print(df4.text[3171])"
   ]
  },
  {
   "cell_type": "code",
   "execution_count": 120,
   "metadata": {
    "ExecuteTime": {
     "end_time": "2020-06-23T11:12:34.424000Z",
     "start_time": "2020-06-23T11:12:34.229519Z"
    },
    "code_folding": [
     0
    ]
   },
   "outputs": [
    {
     "name": "stdout",
     "output_type": "stream",
     "text": [
      "TITLE:\n",
      "Hedge Fund Methodology proposed by EDHEC-Risk Institute\n",
      "\n",
      "TEXT:\n",
      "In a newly-released research publication produced as part of the Newedge research chair on “Advanced Modelling for Alternative Investments,” EDHEC-Risk Institute has evaluated the performance of hedge funds through a non-linear risk adjustment of returns. This methodology is applied to various hedge fund indices as well as to individual hedge funds, considering a set of risk factors including equities, bonds, credit, currencies and commodities. The research findings strongly suggest that what was incorrectly measured as hedge fund alpha in previous studies is actually some form of fair reward obtained by hedge fund managers from holding a set of relatively complex linear and non-linear exposures with respect to various risk factors. Often the reduction in performance comes from a small number of extreme events which are not captured well with the usual linear approach. The findings also support the view that higher-moment equity risks capture a large part of the non-linear risk exposure of several hedge fund strategies. However, exposure to higher-moment risks for bond, interest rate or currency is essential for other strategies, in particular Emerging Markets. Finally, the authors illustrate with individual funds how a fund manager can measure the sensitivity of his portfolio of funds to shocks affecting risk factors, that is macro shocks, or to idiosyncratic shocks impacting a particular fund. This new approach can be extended to evaluate hedge fund managers' performance conditionally to specific macroeconomic environments such as high or low interest-rate states, large or limited economic uncertainty, bull or bear markets, and liquid or illiquid markets, making the performance measurement more transparent to general economic conditions. A copy of “Robust Assessment of Hedge Fund Performance through Nonparametric Discounting” can be downloaded via the following link: EDHEC-Risk Publication Robust Assessment of Hedge Fund Performance through Nonparametric Discounting This research was supported by Newedge as part of the “Advanced Modelling for Alternative Investments” research chair at EDHEC-Risk Institute.\n"
     ]
    }
   ],
   "source": [
    "# most representative docs for topic 3\n",
    "idx3 = 33745-len(temp)+7402+len(year_ii)\n",
    "df3 = pd.read_csv('data\\\\actuarial_post_2.csv')\n",
    "print('TITLE:')\n",
    "print(df3.title[6026])\n",
    "print('')\n",
    "print('TEXT:')\n",
    "print(df3.text[6026])"
   ]
  },
  {
   "cell_type": "code",
   "execution_count": 6,
   "metadata": {},
   "outputs": [],
   "source": [
    "### SFCR "
   ]
  },
  {
   "cell_type": "code",
   "execution_count": 15,
   "metadata": {},
   "outputs": [],
   "source": [
    "# Read data\n",
    "CWD = os.getcwd()\n",
    "FOLDER = 'sfcr2'"
   ]
  },
  {
   "cell_type": "code",
   "execution_count": 16,
   "metadata": {},
   "outputs": [],
   "source": [
    "sfcr2016 = open(os.path.join(CWD, FOLDER, '2016.txt')).read()\n",
    "sfcr2017 = open(os.path.join(CWD, FOLDER, '2017.txt')).read()\n",
    "sfcr2018 = open(os.path.join(CWD, FOLDER, '2018.txt')).read()\n",
    "sfcr2019 = open(os.path.join(CWD, FOLDER, '2019.txt')).read()"
   ]
  },
  {
   "cell_type": "code",
   "execution_count": 17,
   "metadata": {},
   "outputs": [
    {
     "name": "stdout",
     "output_type": "stream",
     "text": [
      "   year                                               body\n",
      "0  2016  RSA Insurance Group plc\\nSolvency and Financia...\n",
      "1  2017  Solvency and Financial Condition Report\\nQBE E...\n",
      "2  2018  AmTrust Europe\\nLimited\\nSolvency and Financia...\n",
      "3  2019  Arch Insurance (UK) Limited\\nSolvency and fina...\n"
     ]
    }
   ],
   "source": [
    "import pandas as pd\n",
    "\n",
    "data = {'year':  ['2016', '2017','2018', '2019'],\n",
    "        'body': [sfcr2016, sfcr2017,sfcr2018, sfcr2019],\n",
    "        }\n",
    "\n",
    "df = pd.DataFrame (data, columns = ['year','body'])\n",
    "\n",
    "print (df)"
   ]
  },
  {
   "cell_type": "code",
   "execution_count": 18,
   "metadata": {},
   "outputs": [],
   "source": [
    "# slice the data based on year\n",
    "df['year'] = df['year'].astype(int)\n",
    "df_2016 = df.loc[df['year']== 2016]\n",
    "df_2017 = df.loc[df['year']== 2017]\n",
    "df_2018 = df.loc[df['year']== 2018]\n",
    "df_2019 = df.loc[df['year']== 2019]\n"
   ]
  },
  {
   "cell_type": "code",
   "execution_count": 19,
   "metadata": {},
   "outputs": [],
   "source": [
    "### Basic Cleaning\n",
    "#2016"
   ]
  },
  {
   "cell_type": "code",
   "execution_count": 20,
   "metadata": {},
   "outputs": [
    {
     "name": "stderr",
     "output_type": "stream",
     "text": [
      "/opt/anaconda3/lib/python3.7/site-packages/pandas/core/indexing.py:965: SettingWithCopyWarning: \n",
      "A value is trying to be set on a copy of a slice from a DataFrame.\n",
      "Try using .loc[row_indexer,col_indexer] = value instead\n",
      "\n",
      "See the caveats in the documentation: https://pandas.pydata.org/pandas-docs/stable/user_guide/indexing.html#returning-a-view-versus-a-copy\n",
      "  self.obj[item] = s\n"
     ]
    }
   ],
   "source": [
    "# remove returns\n",
    "df_2016.loc[:, 'body'] = df_2016['body'].str.replace('\\n', '')\n",
    "\n",
    "# remove punctuation \n",
    "df_2016.loc[:, 'body'] = df_2016['body'].str.replace('[^A-Za-z]',' ')\n",
    "\n",
    "# list of abstract\n",
    "docs = [body.strip().lower() for body in df_2016.body]\n",
    "\n",
    "# hyphen to underscores\n",
    "docs = [re.sub(r'\\b-\\b', '_', body) for body in docs]"
   ]
  },
  {
   "cell_type": "code",
   "execution_count": 21,
   "metadata": {},
   "outputs": [],
   "source": [
    "### Pass documents through spaCy's `nlp` pipeline\n",
    "#Tokenize text"
   ]
  },
  {
   "cell_type": "code",
   "execution_count": 22,
   "metadata": {},
   "outputs": [],
   "source": [
    "# load spaCy model 'web_lg'\n",
    "nlp = en_core_web_lg.load()"
   ]
  },
  {
   "cell_type": "code",
   "execution_count": 23,
   "metadata": {},
   "outputs": [],
   "source": [
    "# Set max length for nlp piplines\n",
    "nlp.max_length = 6000000"
   ]
  },
  {
   "cell_type": "code",
   "execution_count": null,
   "metadata": {},
   "outputs": [],
   "source": [
    "# tokenize 2016 SFCR text\n",
    "docs_tokens, tmp_tokens = [], []\n",
    "\n",
    "for doc in docs:\n",
    "    tmp_tokens = [token.lemma_ for token in nlp(doc)\n",
    "                  if not token.is_stop\n",
    "                  and not token.is_punct\n",
    "                  and not token.like_num\n",
    "                  and not token.like_url\n",
    "                  and not token.like_email\n",
    "                  and not token.is_currency\n",
    "                  and not token.is_oov]\n",
    "    docs_tokens.append(tmp_tokens)\n",
    "    tmp_tokens = []"
   ]
  },
  {
   "cell_type": "code",
   "execution_count": null,
   "metadata": {},
   "outputs": [],
   "source": [
    "# get rid of common terms\n",
    "common_terms = [u'of', u'with', u'without', u'and', u'or', u'the', u'a',\n",
    "                u'not', 'be', u'to', u'this', u'who', u'in']"
   ]
  },
  {
   "cell_type": "code",
   "execution_count": 34,
   "metadata": {},
   "outputs": [],
   "source": [
    "# finding phrases as bigrams\n",
    "bigram = Phrases(docs_tokens,\n",
    "                 min_count=50,\n",
    "                 threshold=5,\n",
    "                 max_vocab_size=50000,\n",
    "                 common_terms=common_terms)\n",
    "\n",
    "docs_phrased = [bigram[line] for line in docs_tokens]"
   ]
  },
  {
   "cell_type": "code",
   "execution_count": 35,
   "metadata": {},
   "outputs": [],
   "source": [
    "# create text corpus based on achieved dictionary\n",
    "NEW_CORPUS = [DICT.doc2bow(doc) for doc in docs_phrased]"
   ]
  },
  {
   "cell_type": "code",
   "execution_count": 39,
   "metadata": {},
   "outputs": [],
   "source": [
    "# Set max length for nlp piplines\n",
    "nlp.max_length = 10000000"
   ]
  },
  {
   "cell_type": "code",
   "execution_count": 43,
   "metadata": {},
   "outputs": [],
   "source": [
    "# get transformed corpus as per the LDA model\n",
    "TRANSF_CORPUS = LDA_MALLET_G.get_document_topics(NEW_CORPUS,minimum_probability =0.0)\n",
    "\n",
    "# rearrange data on document-topic pairs probabilities\n",
    "DOC_TOPIC_M = []\n",
    "\n",
    "for id, doc in enumerate(TRANSF_CORPUS):\n",
    "    for topic in np.arange(0, 6, 1):\n",
    "        topic_n = doc[topic][0]\n",
    "        topic_prob = doc[topic][1] \n",
    "        DOC_TOPIC_M.append([id, topic, topic_prob])\n",
    "\n",
    "DF_NEW = pd.DataFrame(DOC_TOPIC_M)\n",
    "\n",
    "# rename columns\n",
    "OLD_NAMES = [0, 1, 2]\n",
    "NEW_NAMES = ['doc_id', 'topic_n', 'prob']\n",
    "COLS = dict(zip(OLD_NAMES, NEW_NAMES))\n",
    "DF_NEW.rename(columns=COLS, inplace=True)\n",
    "\n",
    "# dominant topic\n",
    "GR = DF_NEW.groupby('doc_id')\n",
    "DF_NEW.loc[:, 'max'] = GR['prob'].transform(np.max)\n",
    "DF_NEW.loc[:, 'first_topic'] = 0\n",
    "DF_NEW.loc[DF_NEW['prob'] == DF_NEW['max'], 'first_topic'] = 1\n",
    "FIRST_TOPIC = DF_NEW.loc[DF_NEW['first_topic'] == 1]\n",
    "\n",
    "# arrange data as contingency table\n",
    "DF_NEW = DF_NEW.pivot_table(index='doc_id', columns='topic_n', values='prob', aggfunc=np.mean)\n",
    "\n",
    "# write data to file\n",
    "#CWD = CWD\n",
    "#FOLDER = 'transformed_data'\n",
    "#FILE = 'transformed_corpus_2016.csv'\n",
    "#DF_NEW.to_csv(os.path.join(CWD, FOLDER, FILE), index=True)"
   ]
  },
  {
   "cell_type": "code",
   "execution_count": 45,
   "metadata": {},
   "outputs": [
    {
     "data": {
      "text/html": [
       "<div>\n",
       "<style scoped>\n",
       "    .dataframe tbody tr th:only-of-type {\n",
       "        vertical-align: middle;\n",
       "    }\n",
       "\n",
       "    .dataframe tbody tr th {\n",
       "        vertical-align: top;\n",
       "    }\n",
       "\n",
       "    .dataframe thead th {\n",
       "        text-align: right;\n",
       "    }\n",
       "</style>\n",
       "<table border=\"1\" class=\"dataframe\">\n",
       "  <thead>\n",
       "    <tr style=\"text-align: right;\">\n",
       "      <th>topic_n</th>\n",
       "      <th>0</th>\n",
       "      <th>1</th>\n",
       "      <th>2</th>\n",
       "      <th>3</th>\n",
       "      <th>4</th>\n",
       "      <th>5</th>\n",
       "    </tr>\n",
       "    <tr>\n",
       "      <th>doc_id</th>\n",
       "      <th></th>\n",
       "      <th></th>\n",
       "      <th></th>\n",
       "      <th></th>\n",
       "      <th></th>\n",
       "      <th></th>\n",
       "    </tr>\n",
       "  </thead>\n",
       "  <tbody>\n",
       "    <tr>\n",
       "      <th>0</th>\n",
       "      <td>0.156986</td>\n",
       "      <td>0.103182</td>\n",
       "      <td>0.11115</td>\n",
       "      <td>0.11631</td>\n",
       "      <td>0.160572</td>\n",
       "      <td>0.3518</td>\n",
       "    </tr>\n",
       "  </tbody>\n",
       "</table>\n",
       "</div>"
      ],
      "text/plain": [
       "topic_n         0         1        2        3         4       5\n",
       "doc_id                                                         \n",
       "0        0.156986  0.103182  0.11115  0.11631  0.160572  0.3518"
      ]
     },
     "execution_count": 45,
     "metadata": {},
     "output_type": "execute_result"
    }
   ],
   "source": [
    "DF_NEW"
   ]
  },
  {
   "cell_type": "code",
   "execution_count": 2,
   "metadata": {},
   "outputs": [
    {
     "ename": "NameError",
     "evalue": "name 'df_2017' is not defined",
     "output_type": "error",
     "traceback": [
      "\u001b[0;31m---------------------------------------------------------------------------\u001b[0m",
      "\u001b[0;31mNameError\u001b[0m                                 Traceback (most recent call last)",
      "\u001b[0;32m<ipython-input-2-5de60aca0824>\u001b[0m in \u001b[0;36m<module>\u001b[0;34m\u001b[0m\n\u001b[1;32m      1\u001b[0m \u001b[0;31m# 2017\u001b[0m\u001b[0;34m\u001b[0m\u001b[0;34m\u001b[0m\u001b[0;34m\u001b[0m\u001b[0m\n\u001b[1;32m      2\u001b[0m \u001b[0;31m# remove returns\u001b[0m\u001b[0;34m\u001b[0m\u001b[0;34m\u001b[0m\u001b[0;34m\u001b[0m\u001b[0m\n\u001b[0;32m----> 3\u001b[0;31m \u001b[0mdf_2017\u001b[0m\u001b[0;34m.\u001b[0m\u001b[0mloc\u001b[0m\u001b[0;34m[\u001b[0m\u001b[0;34m:\u001b[0m\u001b[0;34m,\u001b[0m \u001b[0;34m'body'\u001b[0m\u001b[0;34m]\u001b[0m \u001b[0;34m=\u001b[0m \u001b[0mdf_2017\u001b[0m\u001b[0;34m[\u001b[0m\u001b[0;34m'body'\u001b[0m\u001b[0;34m]\u001b[0m\u001b[0;34m.\u001b[0m\u001b[0mstr\u001b[0m\u001b[0;34m.\u001b[0m\u001b[0mreplace\u001b[0m\u001b[0;34m(\u001b[0m\u001b[0;34m'\\n'\u001b[0m\u001b[0;34m,\u001b[0m \u001b[0;34m''\u001b[0m\u001b[0;34m)\u001b[0m\u001b[0;34m\u001b[0m\u001b[0;34m\u001b[0m\u001b[0m\n\u001b[0m\u001b[1;32m      4\u001b[0m \u001b[0;34m\u001b[0m\u001b[0m\n\u001b[1;32m      5\u001b[0m \u001b[0;31m# remove punctuation\u001b[0m\u001b[0;34m\u001b[0m\u001b[0;34m\u001b[0m\u001b[0;34m\u001b[0m\u001b[0m\n",
      "\u001b[0;31mNameError\u001b[0m: name 'df_2017' is not defined"
     ]
    }
   ],
   "source": [
    "# 2017\n",
    "# remove returns\n",
    "df_2017.loc[:, 'body'] = df_2017['body'].str.replace('\\n', '')\n",
    "\n",
    "# remove punctuation \n",
    "df_2017.loc[:, 'body'] = df_2017['body'].str.replace('[^A-Za-z]',' ')\n",
    "\n",
    "# list of abstract\n",
    "docs = [body.strip().lower() for body in df_2017.body]\n",
    "\n",
    "# hyphen to underscores\n",
    "docs = [re.sub(r'\\b-\\b', '_', body) for body in docs]"
   ]
  },
  {
   "cell_type": "code",
   "execution_count": 1,
   "metadata": {},
   "outputs": [
    {
     "ename": "NameError",
     "evalue": "name 'docs' is not defined",
     "output_type": "error",
     "traceback": [
      "\u001b[0;31m---------------------------------------------------------------------------\u001b[0m",
      "\u001b[0;31mNameError\u001b[0m                                 Traceback (most recent call last)",
      "\u001b[0;32m<ipython-input-1-cf463a0578c9>\u001b[0m in \u001b[0;36m<module>\u001b[0;34m\u001b[0m\n\u001b[1;32m      2\u001b[0m \u001b[0mdocs_tokens_2017\u001b[0m\u001b[0;34m,\u001b[0m \u001b[0mtmp_tokens_2017\u001b[0m \u001b[0;34m=\u001b[0m \u001b[0;34m[\u001b[0m\u001b[0;34m]\u001b[0m\u001b[0;34m,\u001b[0m \u001b[0;34m[\u001b[0m\u001b[0;34m]\u001b[0m\u001b[0;34m\u001b[0m\u001b[0;34m\u001b[0m\u001b[0m\n\u001b[1;32m      3\u001b[0m \u001b[0;34m\u001b[0m\u001b[0m\n\u001b[0;32m----> 4\u001b[0;31m \u001b[0;32mfor\u001b[0m \u001b[0mdoc\u001b[0m \u001b[0;32min\u001b[0m \u001b[0mdocs\u001b[0m\u001b[0;34m:\u001b[0m\u001b[0;34m\u001b[0m\u001b[0;34m\u001b[0m\u001b[0m\n\u001b[0m\u001b[1;32m      5\u001b[0m     tmp_tokens_2017 = [token.lemma_ for token in nlp(doc)\n\u001b[1;32m      6\u001b[0m                   \u001b[0;32mif\u001b[0m \u001b[0;32mnot\u001b[0m \u001b[0mtoken\u001b[0m\u001b[0;34m.\u001b[0m\u001b[0mis_stop\u001b[0m\u001b[0;34m\u001b[0m\u001b[0;34m\u001b[0m\u001b[0m\n",
      "\u001b[0;31mNameError\u001b[0m: name 'docs' is not defined"
     ]
    }
   ],
   "source": [
    "# tokenize text\n",
    "docs_tokens_2017, tmp_tokens_2017 = [], []\n",
    "\n",
    "for doc in docs:\n",
    "    tmp_tokens_2017 = [token.lemma_ for token in nlp(doc)\n",
    "                  if not token.is_stop\n",
    "                  and not token.is_punct\n",
    "                  and not token.like_num\n",
    "                  and not token.like_url\n",
    "                  and not token.like_email\n",
    "                  and not token.is_currency\n",
    "                  and not token.is_oov]\n",
    "    docs_tokens_2017.append(tmp_tokens_post)\n",
    "    tmp_tokens_2017 = []"
   ]
  },
  {
   "cell_type": "code",
   "execution_count": null,
   "metadata": {},
   "outputs": [],
   "source": [
    "# get rid of common terms\n",
    "common_terms = [u'of', u'with', u'without', u'and', u'or', u'the', u'a',\n",
    "                u'not', 'be', u'to', u'this', u'who', u'in']"
   ]
  },
  {
   "cell_type": "code",
   "execution_count": null,
   "metadata": {},
   "outputs": [],
   "source": [
    "# finding phrases as bigrams\n",
    "bigram = Phrases(docs_tokens,\n",
    "                 min_count=50,\n",
    "                 threshold=5,\n",
    "                 max_vocab_size=50000,\n",
    "                 common_terms=common_terms)\n",
    "\n",
    "docs_phrased = [bigram[line] for line in docs_tokens]"
   ]
  },
  {
   "cell_type": "code",
   "execution_count": null,
   "metadata": {},
   "outputs": [],
   "source": [
    "# create text corpus based on achieved dictionary\n",
    "NEW_CORPUS = [DICT.doc2bow(doc) for doc in docs_phrased]"
   ]
  },
  {
   "cell_type": "code",
   "execution_count": null,
   "metadata": {},
   "outputs": [],
   "source": [
    "# get transformed corpus as per the LDA model\n",
    "TRANSF_CORPUS = LDA_MALLET_G.get_document_topics(NEW_CORPUS,minimum_probability =0.0)\n",
    "\n",
    "# rearrange data on document-topic pairs probabilities\n",
    "DOC_TOPIC_M = []\n",
    "\n",
    "for id, doc in enumerate(TRANSF_CORPUS):\n",
    "    for topic in np.arange(0, 6, 1):\n",
    "        topic_n = doc[topic][0]\n",
    "        topic_prob = doc[topic][1] \n",
    "        DOC_TOPIC_M.append([id, topic, topic_prob])\n",
    "\n",
    "DF_NEW = pd.DataFrame(DOC_TOPIC_M)\n",
    "\n",
    "# rename columns\n",
    "OLD_NAMES = [0, 1, 2]\n",
    "NEW_NAMES = ['doc_id', 'topic_n', 'prob']\n",
    "COLS = dict(zip(OLD_NAMES, NEW_NAMES))\n",
    "DF_NEW.rename(columns=COLS, inplace=True)\n",
    "\n",
    "# dominant topic\n",
    "GR = DF_NEW.groupby('doc_id')\n",
    "DF_NEW.loc[:, 'max'] = GR['prob'].transform(np.max)\n",
    "DF_NEW.loc[:, 'first_topic'] = 0\n",
    "DF_NEW.loc[DF_NEW['prob'] == DF_NEW['max'], 'first_topic'] = 1\n",
    "FIRST_TOPIC = DF_NEW.loc[DF_NEW['first_topic'] == 1]\n",
    "\n",
    "# arrange data as contingency table\n",
    "DF_NEW = DF_NEW.pivot_table(index='doc_id', columns='topic_n', values='prob', aggfunc=np.mean)\n",
    "\n",
    "# write data to file\n",
    "#CWD = CWD\n",
    "#FOLDER = 'transformed_data'\n",
    "#FILE = 'transformed_corpus_2017.csv'\n",
    "#DF_NEW.to_csv(os.path.join(CWD, FOLDER, FILE), index=True)\n",
    "DF_NEW"
   ]
  },
  {
   "cell_type": "code",
   "execution_count": null,
   "metadata": {},
   "outputs": [],
   "source": [
    "# 2018\n",
    "# remove returns\n",
    "df_2018.loc[:, 'body'] = df_2018['body'].str.replace('\\n', '')\n",
    "\n",
    "# remove punctuation \n",
    "df_2018.loc[:, 'body'] = df_2018['body'].str.replace('[^A-Za-z]',' ')\n",
    "\n",
    "# list of abstract\n",
    "docs = [body.strip().lower() for body in df_2018.body]\n",
    "\n",
    "# hyphen to underscores\n",
    "docs = [re.sub(r'\\b-\\b', '_', body) for body in docs]"
   ]
  },
  {
   "cell_type": "code",
   "execution_count": null,
   "metadata": {},
   "outputs": [],
   "source": [
    "# tokenize text\n",
    "docs_tokens_2018, tmp_tokens_2018 = [], []\n",
    "\n",
    "for doc in docs:\n",
    "    tmp_tokens_2018 = [token.lemma_ for token in nlp(doc)\n",
    "                  if not token.is_stop\n",
    "                  and not token.is_punct\n",
    "                  and not token.like_num\n",
    "                  and not token.like_url\n",
    "                  and not token.like_email\n",
    "                  and not token.is_currency\n",
    "                  and not token.is_oov]\n",
    "    docs_tokens_2018.append(tmp_tokens_post)\n",
    "    tmp_tokens_2018 = []"
   ]
  },
  {
   "cell_type": "code",
   "execution_count": null,
   "metadata": {},
   "outputs": [],
   "source": [
    "# get rid of common terms\n",
    "common_terms = [u'of', u'with', u'without', u'and', u'or', u'the', u'a',\n",
    "                u'not', 'be', u'to', u'this', u'who', u'in']\n",
    "\n",
    "# finding phrases as bigrams\n",
    "bigram = Phrases(docs_tokens,\n",
    "                 min_count=50,\n",
    "                 threshold=5,\n",
    "                 max_vocab_size=50000,\n",
    "                 common_terms=common_terms)\n",
    "\n",
    "docs_phrased = [bigram[line] for line in docs_tokens]"
   ]
  },
  {
   "cell_type": "code",
   "execution_count": null,
   "metadata": {},
   "outputs": [],
   "source": [
    "# create text corpus based on achieved dictionary\n",
    "NEW_CORPUS = [DICT.doc2bow(doc) for doc in docs_phrased]"
   ]
  },
  {
   "cell_type": "code",
   "execution_count": null,
   "metadata": {},
   "outputs": [],
   "source": [
    "# get transformed corpus as per the LDA model\n",
    "TRANSF_CORPUS = LDA_MALLET_G.get_document_topics(NEW_CORPUS,minimum_probability =0.0)\n",
    "\n",
    "# rearrange data on document-topic pairs probabilities\n",
    "DOC_TOPIC_M = []\n",
    "\n",
    "for id, doc in enumerate(TRANSF_CORPUS):\n",
    "    for topic in np.arange(0, 6, 1):\n",
    "        topic_n = doc[topic][0]\n",
    "        topic_prob = doc[topic][1] \n",
    "        DOC_TOPIC_M.append([id, topic, topic_prob])\n",
    "\n",
    "DF_NEW = pd.DataFrame(DOC_TOPIC_M)\n",
    "\n",
    "# rename columns\n",
    "OLD_NAMES = [0, 1, 2]\n",
    "NEW_NAMES = ['doc_id', 'topic_n', 'prob']\n",
    "COLS = dict(zip(OLD_NAMES, NEW_NAMES))\n",
    "DF_NEW.rename(columns=COLS, inplace=True)\n",
    "\n",
    "# dominant topic\n",
    "GR = DF_NEW.groupby('doc_id')\n",
    "DF_NEW.loc[:, 'max'] = GR['prob'].transform(np.max)\n",
    "DF_NEW.loc[:, 'first_topic'] = 0\n",
    "DF_NEW.loc[DF_NEW['prob'] == DF_NEW['max'], 'first_topic'] = 1\n",
    "FIRST_TOPIC = DF_NEW.loc[DF_NEW['first_topic'] == 1]\n",
    "\n",
    "# arrange data as contingency table\n",
    "DF_NEW = DF_NEW.pivot_table(index='doc_id', columns='topic_n', values='prob', aggfunc=np.mean)\n",
    "\n",
    "# write data to file\n",
    "#CWD = CWD\n",
    "#FOLDER = 'transformed_data'\n",
    "#FILE = 'transformed_corpus_2018.csv'\n",
    "#DF_NEW.to_csv(os.path.join(CWD, FOLDER, FILE), index=True)"
   ]
  },
  {
   "cell_type": "code",
   "execution_count": null,
   "metadata": {},
   "outputs": [],
   "source": [
    "# 2019\n",
    "# remove returns\n",
    "df_2019.loc[:, 'body'] = df_2019['body'].str.replace('\\n', '')\n",
    "\n",
    "# remove punctuation \n",
    "df_2019.loc[:, 'body'] = df_2019['body'].str.replace('[^A-Za-z]',' ')\n",
    "\n",
    "# list of abstract\n",
    "docs = [body.strip().lower() for body in df_2019.body]\n",
    "\n",
    "# hyphen to underscores\n",
    "docs = [re.sub(r'\\b-\\b', '_', body) for body in docs]"
   ]
  },
  {
   "cell_type": "code",
   "execution_count": null,
   "metadata": {},
   "outputs": [],
   "source": [
    "# tokenize text\n",
    "docs_tokens_2019, tmp_tokens_2019 = [], []\n",
    "\n",
    "for doc in docs:\n",
    "    tmp_tokens_2019 = [token.lemma_ for token in nlp(doc)\n",
    "                  if not token.is_stop\n",
    "                  and not token.is_punct\n",
    "                  and not token.like_num\n",
    "                  and not token.like_url\n",
    "                  and not token.like_email\n",
    "                  and not token.is_currency\n",
    "                  and not token.is_oov]\n",
    "    docs_tokens_2019.append(tmp_tokens_post)\n",
    "    tmp_tokens_2019 = []"
   ]
  },
  {
   "cell_type": "code",
   "execution_count": null,
   "metadata": {},
   "outputs": [],
   "source": [
    "# get rid of common terms\n",
    "common_terms = [u'of', u'with', u'without', u'and', u'or', u'the', u'a',\n",
    "                u'not', 'be', u'to', u'this', u'who', u'in']\n",
    "\n",
    "# finding phrases as bigrams\n",
    "bigram = Phrases(docs_tokens,\n",
    "                 min_count=50,\n",
    "                 threshold=5,\n",
    "                 max_vocab_size=50000,\n",
    "                 common_terms=common_terms)\n",
    "\n",
    "docs_phrased = [bigram[line] for line in docs_tokens]"
   ]
  },
  {
   "cell_type": "code",
   "execution_count": null,
   "metadata": {},
   "outputs": [],
   "source": [
    "# create text corpus based on achieved dictionary\n",
    "NEW_CORPUS = [DICT.doc2bow(doc) for doc in docs_phrased]"
   ]
  },
  {
   "cell_type": "code",
   "execution_count": null,
   "metadata": {},
   "outputs": [],
   "source": [
    "# get transformed corpus as per the LDA model\n",
    "TRANSF_CORPUS = LDA_MALLET_G.get_document_topics(NEW_CORPUS,minimum_probability =0.0)\n",
    "\n",
    "# rearrange data on document-topic pairs probabilities\n",
    "DOC_TOPIC_M = []\n",
    "\n",
    "for id, doc in enumerate(TRANSF_CORPUS):\n",
    "    for topic in np.arange(0, 6, 1):\n",
    "        topic_n = doc[topic][0]\n",
    "        topic_prob = doc[topic][1] \n",
    "        DOC_TOPIC_M.append([id, topic, topic_prob])\n",
    "\n",
    "DF_NEW = pd.DataFrame(DOC_TOPIC_M)\n",
    "\n",
    "# rename columns\n",
    "OLD_NAMES = [0, 1, 2]\n",
    "NEW_NAMES = ['doc_id', 'topic_n', 'prob']\n",
    "COLS = dict(zip(OLD_NAMES, NEW_NAMES))\n",
    "DF_NEW.rename(columns=COLS, inplace=True)\n",
    "\n",
    "# dominant topic\n",
    "GR = DF_NEW.groupby('doc_id')\n",
    "DF_NEW.loc[:, 'max'] = GR['prob'].transform(np.max)\n",
    "DF_NEW.loc[:, 'first_topic'] = 0\n",
    "DF_NEW.loc[DF_NEW['prob'] == DF_NEW['max'], 'first_topic'] = 1\n",
    "FIRST_TOPIC = DF_NEW.loc[DF_NEW['first_topic'] == 1]\n",
    "\n",
    "# arrange data as contingency table\n",
    "DF_NEW = DF_NEW.pivot_table(index='doc_id', columns='topic_n', values='prob', aggfunc=np.mean)\n",
    "\n",
    "# write data to file\n",
    "#CWD = CWD\n",
    "#FOLDER = 'transformed_data'\n",
    "#FILE = 'transformed_corpus_2019.csv'\n",
    "#DF_NEW.to_csv(os.path.join(CWD, FOLDER, FILE), index=True)"
   ]
  },
  {
   "cell_type": "code",
   "execution_count": null,
   "metadata": {},
   "outputs": [],
   "source": []
  },
  {
   "cell_type": "code",
   "execution_count": null,
   "metadata": {},
   "outputs": [],
   "source": []
  },
  {
   "cell_type": "code",
   "execution_count": null,
   "metadata": {},
   "outputs": [],
   "source": []
  }
 ],
 "metadata": {
  "kernelspec": {
   "display_name": "Python 3",
   "language": "python",
   "name": "python3"
  },
  "language_info": {
   "codemirror_mode": {
    "name": "ipython",
    "version": 3
   },
   "file_extension": ".py",
   "mimetype": "text/x-python",
   "name": "python",
   "nbconvert_exporter": "python",
   "pygments_lexer": "ipython3",
   "version": "3.7.6"
  },
  "toc": {
   "base_numbering": 1,
   "nav_menu": {},
   "number_sections": true,
   "sideBar": true,
   "skip_h1_title": false,
   "title_cell": "Table of Contents",
   "title_sidebar": "Contents",
   "toc_cell": false,
   "toc_position": {},
   "toc_section_display": true,
   "toc_window_display": false
  },
  "varInspector": {
   "cols": {
    "lenName": 16,
    "lenType": 16,
    "lenVar": 40
   },
   "kernels_config": {
    "python": {
     "delete_cmd_postfix": "",
     "delete_cmd_prefix": "del ",
     "library": "var_list.py",
     "varRefreshCmd": "print(var_dic_list())"
    },
    "r": {
     "delete_cmd_postfix": ") ",
     "delete_cmd_prefix": "rm(",
     "library": "var_list.r",
     "varRefreshCmd": "cat(var_dic_list()) "
    }
   },
   "position": {
    "height": "308.86px",
    "left": "1166px",
    "right": "20px",
    "top": "124px",
    "width": "339px"
   },
   "types_to_exclude": [
    "module",
    "function",
    "builtin_function_or_method",
    "instance",
    "_Feature"
   ],
   "window_display": false
  }
 },
 "nbformat": 4,
 "nbformat_minor": 4
}
